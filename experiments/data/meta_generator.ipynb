{
 "cells": [
  {
   "cell_type": "markdown",
   "metadata": {},
   "source": [
    "# Meta-config generation for synthetic data\n",
    "\n",
    "We will generate synthetic data configurations that can in turn generate synthetic data. The entire process is coded in a reproducible manner. This is useful for testing the pipeline. In the working directory, there are directories that are named by the number of covariates.\n",
    "In each of the directories, we will generate a set of configurations that generate causal graphs with that number of covariates. The functional form of the covariate is one of the following:\n",
    "\n",
    "1. Linear non-Gaussian datasets\n",
    "2. Non-linear Gaussian datasets with parametric assumptions\n",
    "    1. The invertible function is a polynomial of degree 3\n",
    "    2. The invertible function is $x + sin(x)$\n",
    "3. Non-linear Gaussian datasets with no parametric assumptions\n",
    "\n",
    "We will explain in detail how we generate each of these datasets. The causal graph generators are separate entities and we will sample from three different causal graph types:\n",
    "\n",
    "1. Chains (only one correct ordering and really sparse)\n",
    "2. V-Structures (Many correct orderings and sparse) - one weired covariate and n-1 normal covariates\n",
    "3. Forks (Many correct orderings and sparse) - one normal covariate and n-1 weired covariates\n",
    "4. Erdos-Renyi (Many correct orderings and dense) with p set to 0.65\n",
    "5. Full (one one correct ordering and dense)\n"
   ]
  },
  {
   "cell_type": "code",
   "execution_count": 1,
   "metadata": {},
   "outputs": [],
   "source": [
    "import numpy as np\n",
    "\n",
    "def generate_graph_generator_args(n: int):\n",
    "    # graph generator\n",
    "    graph_generator_args = {'n': n, 'seed': np.random.randint(1000)}\n",
    "    type_ind = np.random.randint(5)\n",
    "    if type_ind == 0 or n <= 2:\n",
    "        graph_generator_args['graph_type'] = 'chain'\n",
    "    elif type_ind == 1:\n",
    "        graph_generator_args['graph_type'] = 'fork' if np.random.randint(2) else 'v_structure'\n",
    "    elif type_ind == 2:\n",
    "        graph_generator_args['graph_type'] = 'full'\n",
    "    elif type_ind == 3:\n",
    "        graph_generator_args['graph_type'] = 'erdos_renyi'\n",
    "        graph_generator_args['p'] = 0.65\n",
    "    else:\n",
    "        graph_generator_args['graph_type'] = 'fork'\n",
    "    \n",
    "    return graph_generator_args"
   ]
  },
  {
   "cell_type": "code",
   "execution_count": 2,
   "metadata": {},
   "outputs": [],
   "source": [
    "def get_conf(scm_generator, scm_generator_args, observation_size):\n",
    "    dataset_args = {\n",
    "        'seed': np.random.randint(1000),\n",
    "        'scm_generator': scm_generator,\n",
    "        'scm_generator_args': scm_generator_args,\n",
    "        'observation_size': observation_size\n",
    "    }\n",
    "\n",
    "    conf = {\n",
    "        'class_path': 'lightning_toolbox.DataModule',\n",
    "        'init_args': {\n",
    "            'dataset': 'ocd.data.SyntheticOCDDataset',\n",
    "            'dataset_args': dataset_args,\n",
    "            'val_size': 0.1,\n",
    "            'batch_size': 128,\n",
    "        },\n",
    "    }\n",
    "    \n",
    "    return conf"
   ]
  },
  {
   "cell_type": "markdown",
   "metadata": {},
   "source": [
    "Set the following for reproducibility and some pre-requisite imports."
   ]
  },
  {
   "cell_type": "code",
   "execution_count": 3,
   "metadata": {},
   "outputs": [],
   "source": [
    "import typing as th\n",
    "from ruamel import yaml\n",
    "np.random.seed(100)"
   ]
  },
  {
   "cell_type": "markdown",
   "metadata": {},
   "source": [
    "## Functional form Generator\n",
    "\n",
    "Here we will cover three types of synthetic SCMs we will consider. We will go into some details of the data-generating process for each and provide a code that by running it will generate the configurations for the synthetic data."
   ]
  },
  {
   "cell_type": "markdown",
   "metadata": {},
   "source": [
    "### Linear non-Gaussian datasets\n",
    "\n",
    "In these datasets, each covariate equals a linear combination of its parent covariates plus some noise. The noise is sampled from a non-Gaussian distribution, either being a uniform distribution or Laplace. That said, by running the following cell we will define a function that generates configurations. Take a look at the function documentation to get an idea of what it does."
   ]
  },
  {
   "cell_type": "code",
   "execution_count": 4,
   "metadata": {},
   "outputs": [],
   "source": [
    "def generate_linear_non_gaussan_configurations(n_cov: th.List[int],\n",
    "                                               n_configs: th.List[int],\n",
    "                                               observation_sizes: th.List[int]):\n",
    "    \"\"\"\n",
    "    This function generates a set of yaml files that contain the meta-data required to generate the synthetic data.\n",
    "    The files are formatted as follows:\n",
    "    \n",
    "    >> linear_non_gauussian_{n_cov}_{observation_size}_{graph_type}_{noise_type}.yaml\n",
    "    \n",
    "    For more information, check out ocd/data/synthetic/linear_non_gaussian_scm_generator.py\n",
    "    \n",
    "    Args:\n",
    "        n_cov: A list where n_cov[i] indicates the number of covariates in the ith set of configurations\n",
    "        n_configs: A list where n_configs[i] indicates the number of configurations to generate for the ith set of configurations\n",
    "        observation_sizes: A list where \n",
    "        observation_sizes[i] indicates the number of observations to generate for the ith set of configurations\n",
    "    \"\"\"\n",
    "    \n",
    "    for n, observation_size, n_config in zip(n_cov, observation_sizes, n_configs):\n",
    "        for _ in range(n_config):\n",
    "            \n",
    "            scm_generator_args = {}\n",
    "            scm_generator_args['graph_generator'] = 'ocd.data.scm.GraphGenerator'\n",
    "            scm_generator_args['graph_generator_args'] = generate_graph_generator_args(n)    \n",
    "            scm_generator_args['weight'] = [-1.0, 1.0]\n",
    "            \n",
    "            scm_generator_args['seed'] = np.random.randint(1000)\n",
    "            scm_generator_args['noise_type'] = \"laplace\" if np.random.randint(2) == 0 else \"uniform\"\n",
    "\n",
    "            scm_generator = 'ocd.data.synthetic.LinearNonGaussianSCMGenerator'\n",
    "            \n",
    "            conf = get_conf(scm_generator, scm_generator_args, observation_size)\n",
    "            \n",
    "            conf_name = f\"linear_non_gaussian_{n}_{observation_size}_{scm_generator_args['graph_generator_args']['graph_type']}_{scm_generator_args['noise_type']}.yaml\"\n",
    "            \n",
    "            # write conf to conf_name in yaml format\n",
    "            with open(conf_name, 'w') as f:\n",
    "                # yaml.dump(conf, f)\n",
    "                yaml.safe_dump(conf, f, indent=4)\n",
    "                \n",
    "\n",
    "            "
   ]
  },
  {
   "cell_type": "markdown",
   "metadata": {},
   "source": [
    "Run the following piece of code to generate the actual configurations. After running it will generate all the yaml files in the working directory. You can change the seed to generate different configurations; but we have already generated a set of configurations for you which can be reproduced by setting the seed to 100."
   ]
  },
  {
   "cell_type": "code",
   "execution_count": 5,
   "metadata": {},
   "outputs": [],
   "source": [
    "np.random.seed(100)\n",
    "\n",
    "ns = [2, 3, 4, 5, 10, 25, 50, 100]\n",
    "n_configs = [30, 30, 30, 30, 15, 10, 3, 3]\n",
    "observation_size = [500, 500, 1000, 1000, 10000, 10000, 10000, 10000]\n",
    "\n",
    "generate_linear_non_gaussan_configurations(ns, n_configs, observation_size)"
   ]
  },
  {
   "cell_type": "markdown",
   "metadata": {},
   "source": [
    "## Parametric non-linear Gaussian datasets\n",
    "\n",
    "In this set, the linking functions are random linear combinations of their parents with a non-linear transformation applied to them. The non-linear transformation is either a polynomial of degree 3 or $x + sin(x)$. The noise is sampled from a Gaussian distribution. The following cell defines the function that generates the configurations."
   ]
  },
  {
   "cell_type": "code",
   "execution_count": 8,
   "metadata": {},
   "outputs": [],
   "source": [
    "\n",
    "s_func = \"\"\"def func(x):\n",
    "    return numpy.log(1 + numpy.exp(x))\"\"\"\n",
    "\n",
    "def get_t_func_1(t):\n",
    "    return f\"\"\"def func(x):\n",
    "    x_mean = numpy.mean(x)\n",
    "    x_std = numpy.std(x)\n",
    "    if x_std == 0:\n",
    "        x_std = 1\n",
    "    x = (x - x_mean) / x_std\n",
    "    return x**3 + {t}\"\"\"\n",
    "\n",
    "def get_t_func_2():\n",
    "    return f\"\"\"def func(x):\n",
    "    return numpy.sin(x) + x\"\"\"\n",
    "    \n",
    "def non_linear_gaussan_configurations(n_cov: th.List[int],\n",
    "                                      n_configs: th.List[int],\n",
    "                                      observation_sizes: th.List[int]):\n",
    "    \"\"\"\n",
    "    This function generates a set of yaml files that contain the meta-data required to generate the synthetic data.\n",
    "    The files are formatted as follows:\n",
    "    \n",
    "    >> parametric_non_linear_gaussian_{n_cov}_{observation_size}_{graph_type}_{type}.yaml\n",
    "    \n",
    "    type: sin_plus_x or x_cubed_plus_t\n",
    "    \n",
    "    For more information check out ocd/data/synthetic/non_linear_invertible_gaussian_scm_generator.py\n",
    "    Args:\n",
    "        n_cov: A list where n_cov[i] indicates the number of covariates in the ith set of configurations\n",
    "        n_configs: A list where n_configs[i] indicates the number of configurations to generate for the ith set of configurations\n",
    "        observation_sizes: A list where \n",
    "        observation_sizes[i] indicates the number of observations to generate for the ith set of configurations\n",
    "    \"\"\"\n",
    "      \n",
    "    for n, observation_size, n_config in zip(n_cov, observation_sizes, n_configs):\n",
    "        for _ in range(n_config):\n",
    "            \n",
    "            scm_generator_args = {}\n",
    "            scm_generator_args['graph_generator'] = 'ocd.data.scm.GraphGenerator'\n",
    "            scm_generator_args['graph_generator_args'] = generate_graph_generator_args(n)    \n",
    "            \n",
    "            type = np.random.randint(2)\n",
    "            \n",
    "            scm_generator_args['seed'] = np.random.randint(1000)\n",
    "            scm_generator_args['std'] = 1.0\n",
    "            scm_generator_args['mean'] = 0.0\n",
    "            scm_generator_args['weight_s'] = [0.5, 1.5]\n",
    "            scm_generator_args['weight_t'] = [0.5, 1.5]\n",
    "            scm_generator_args['s_function'] = {\n",
    "                'function_descriptor': s_func,\n",
    "                'function_of_interest': 'func'\n",
    "            }\n",
    "            'lambda x: numpy.log(1 + numpy.exp(x))'\n",
    "            scm_generator_args['s_function_signature'] = 'softplus'\n",
    "            \n",
    "            if type == 0:\n",
    "                # Cube and dislocate function\n",
    "                type_naming = 'cube_dislocate'\n",
    "                scm_generator_args['t_function'] = {\n",
    "                    'function_descriptor': get_t_func_1(np.random.randint(10)),\n",
    "                    'function_of_interest': 'func'\n",
    "                }\n",
    "                scm_generator_args['t_function_signature'] = 'cube_and_dislocate'\n",
    "            else:\n",
    "                # Sine function\n",
    "                type_naming = 'sin_plus_x'\n",
    "                scm_generator_args['t_function'] = {\n",
    "                    'function_descriptor': get_t_func_2(),\n",
    "                    'function_of_interest': 'func'\n",
    "                }\n",
    "                scm_generator_args['t_function_signature'] = 'sin_plus_x'\n",
    "\n",
    "            scm_generator = 'ocd.data.synthetic.InvertibleModulatedGaussianSCMGenerator'\n",
    "            \n",
    "            conf = get_conf(observation_size, scm_generator, scm_generator_args)\n",
    "            \n",
    "            conf_name = f\"parametric_non_linear_gaussian_{n}_{observation_size}_{scm_generator_args['graph_generator_args']['graph_type']}_{type_naming}.yaml\"\n",
    "            \n",
    "            # write conf to conf_name in yaml format\n",
    "            with open(conf_name, 'w') as f:\n",
    "                # yaml.dump(conf, f)\n",
    "                yaml.safe_dump(conf, f, indent=4)\n",
    "                \n",
    "\n",
    "            "
   ]
  },
  {
   "cell_type": "markdown",
   "metadata": {},
   "source": [
    "To generate the meta-data for the configurations run the following block. These data have larger `observation_size`."
   ]
  },
  {
   "cell_type": "code",
   "execution_count": 9,
   "metadata": {},
   "outputs": [],
   "source": [
    "np.random.seed(100)\n",
    "ns = [2, 3, 4, 5, 10, 25, 50, 100]\n",
    "n_configs = [10, 10, 10, 10, 10, 10, 3, 3]\n",
    "observation_size = [10000, 10000, 10000, 10000, 10000, 10000, 10000, 10000]\n",
    "\n",
    "non_linear_gaussan_configurations(ns, n_configs, observation_size)"
   ]
  },
  {
   "cell_type": "markdown",
   "metadata": {},
   "source": [
    "## Non-parametric generators with Gaussian Processes\n",
    "\n"
   ]
  },
  {
   "cell_type": "markdown",
   "metadata": {},
   "source": [
    "In the following, we can generate the linking functions by sampling from a Gaussian Process. The function that is sampled from the Gaussian process is most likely invertible and non-linear."
   ]
  },
  {
   "cell_type": "code",
   "execution_count": 12,
   "metadata": {},
   "outputs": [],
   "source": [
    "\n",
    "    \n",
    "def non_parametric_gaussian_process_generator(\n",
    "                                    n_cov: th.List[int],\n",
    "                                    n_configs: th.List[int],\n",
    "                                    observation_sizes: th.List[int]):\n",
    "    \"\"\"\n",
    "    This function generates a set of yaml files that contain the meta-data required to generate the synthetic data.\n",
    "    The files are formatted as follows:\n",
    "    \n",
    "    >> non_parametric_non_linear_gaussian_{n_cov}_{observation_size}_{graph_type}.yaml\n",
    "    \n",
    "    For more information check out ocd/data/synthetic/gaussian_process.py\n",
    "    \n",
    "    Args:\n",
    "        n_cov: A list where n_cov[i] indicates the number of covariates in the ith set of configurations\n",
    "        n_configs: A list where n_configs[i] indicates the number of configurations to generate for the ith set of configurations\n",
    "        observation_sizes: A list where \n",
    "        observation_sizes[i] indicates the number of observations to generate for the ith set of configurations\n",
    "    \"\"\"\n",
    "      \n",
    "    for n, observation_size, n_config in zip(n_cov, observation_sizes, n_configs):\n",
    "        for _ in range(n_config):\n",
    "            \n",
    "            scm_generator_args = {}\n",
    "            scm_generator_args['graph_generator'] = 'ocd.data.scm.GraphGenerator'\n",
    "            scm_generator_args['graph_generator_args'] = generate_graph_generator_args(n)    \n",
    "            \n",
    "\n",
    "            scm_generator_args['seed'] = np.random.randint(1000)\n",
    "            scm_generator_args['noise_std'] = 1.0\n",
    "            scm_generator_args['noise_mean'] = 0.0\n",
    "            scm_generator_args['s_gamma_rbf_kernel'] = 1.0\n",
    "            scm_generator_args['s_variance_rbf_kernel'] = 1.0\n",
    "            scm_generator_args['s_mean_function_weights'] = [0.0, 0.0]\n",
    "            scm_generator_args['t_gamma_rbf_kernel'] = 1.0\n",
    "            scm_generator_args['t_variance_rbf_kernel'] = 1.0\n",
    "            scm_generator_args['t_mean_function_weights'] = [0.0, 0.0]\n",
    "            \n",
    "            scm_generator = 'ocd.data.synthetic.GaussianProcessBasedSCMGeberator'\n",
    "            \n",
    "            conf = get_conf(observation_size, scm_generator, scm_generator_args)\n",
    "            \n",
    "            conf_name = f\"non_parametric_non_linear_gaussian_{n}_{observation_size}_{scm_generator_args['graph_generator_args']['graph_type']}.yaml\"\n",
    "            \n",
    "            # write conf to conf_name in yaml format\n",
    "            with open(conf_name, 'w') as f:\n",
    "                # yaml.dump(conf, f)\n",
    "                yaml.safe_dump(conf, f, indent=4)\n",
    "                \n",
    "\n",
    "            "
   ]
  },
  {
   "cell_type": "markdown",
   "metadata": {},
   "source": [
    "To generate the meta-data for the configurations run the following block. These data have smaller `observation_size` because it is computationally expensive to generate them."
   ]
  },
  {
   "cell_type": "code",
   "execution_count": 11,
   "metadata": {},
   "outputs": [],
   "source": [
    "np.random.seed(100)\n",
    "\n",
    "ns = [2, 3, 4, 5, 10, 25, 50, 100]\n",
    "n_configs = [10, 10, 10, 10, 10, 10, 3, 3]\n",
    "observation_size = [1000, 1000, 1000, 1000, 1000, 1000, 1000, 1000]\n",
    "\n",
    "non_parametric_gaussian_process_generator(ns, n_configs, observation_size)"
   ]
  }
 ],
 "metadata": {
  "kernelspec": {
   "display_name": "Python 3.10.9 ('venv': venv)",
   "language": "python",
   "name": "python3"
  },
  "language_info": {
   "codemirror_mode": {
    "name": "ipython",
    "version": 3
   },
   "file_extension": ".py",
   "mimetype": "text/x-python",
   "name": "python",
   "nbconvert_exporter": "python",
   "pygments_lexer": "ipython3",
   "version": "3.10.9"
  },
  "orig_nbformat": 4,
  "vscode": {
   "interpreter": {
    "hash": "52095eaac6f7430dcd770b4bb1719550039f99e3c10e23775974db5ba0b67989"
   }
  }
 },
 "nbformat": 4,
 "nbformat_minor": 2
}
