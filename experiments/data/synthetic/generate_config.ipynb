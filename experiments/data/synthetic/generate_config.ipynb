{
 "cells": [
  {
   "cell_type": "markdown",
   "metadata": {},
   "source": [
    "# Meta-config analysis and generation for synthetic data\n",
    "\n",
    "We will generate synthetic data configurations that can in turn generate synthetic data. This is useful for testing the pipeline. In the working directory, there are directories that are named by the number of covariates.\n",
    "In each of the directories, we will generate a set of configurations that generate causal graphs with that number of covariates. The functional form of the covariate is one of the following:\n",
    "\n",
    "1. Linear non-Gaussian datasets\n",
    "2. Non-linear Gaussian datasets with parametric assumptions\n",
    "    1. The invertible function is a polynomial of degree 3\n",
    "    2. The invertible function is $x + sin(x)$\n",
    "3. Non-linear Gaussian datasets with no parametric assumptions\n",
    "\n",
    "We will explain in detail how we generate each of these datasets. The causal graph generators are separate entities and we will sample from three different causal graph types:\n",
    "\n",
    "1. Chains (only one correct ordering and really sparse)\n",
    "2. Stars (Many correct orderings and sparse)\n",
    "3. Erdos-Renyi (Many correct orderings and dense)"
   ]
  },
  {
   "cell_type": "markdown",
   "metadata": {},
   "source": [
    "## Functional form Generator\n",
    "\n",
    "### Linear non-Gaussian datasets\n",
    "\n",
    "In these datasets, the function format is of "
   ]
  },
  {
   "cell_type": "code",
   "execution_count": 8,
   "metadata": {},
   "outputs": [],
   "source": [
    "import typing as th\n",
    "import numpy as np\n",
    "\n",
    "np.random.seed(100)\n",
    "\n",
    "def generate_linear_non_gaussan_configurations(n_cov: th.List[int],\n",
    "                                               n_config: th.List[int]):\n",
    "    scm_generator_args =  {}\n",
    "    for n in n_cov:\n",
    "        for i in n_config:\n",
    "            \n",
    "            # graph generator\n",
    "            graph_generator_args = {'n': n, 'seed': np.random.randint(1000)}\n",
    "            b = n_config // 5\n",
    "            if i < b:\n",
    "                graph_generator_args['graph_type'] = 'chain'\n",
    "            elif 1 * b <= i < 2 * b:\n",
    "                graph_generator_args['graph_type'] = 'fork' if i % 2 == 0 else 'v_structure'\n",
    "            elif 2 * b <= i < 3 * b:\n",
    "                graph_generator_args['graph_type'] = 'full'\n",
    "            elif 3 * b <= i < 4 * b:\n",
    "                graph_generator_args['graph_type'] = 'erdos_renyi'\n",
    "                graph_generator_args['p'] = 0.4\n",
    "            else:\n",
    "                graph_generator_args['graph_type'] = 'star'\n",
    "            \n",
    "            scm_generator_args['graph_generator'] = 'ocd.data.scm.GraphGenerator'\n",
    "            scm_generator_args['graph_generator_args'] = graph_generator_args\n",
    "            \n",
    "            "
   ]
  },
  {
   "cell_type": "code",
   "execution_count": 11,
   "metadata": {},
   "outputs": [
    {
     "data": {
      "text/plain": [
       "1"
      ]
     },
     "execution_count": 11,
     "metadata": {},
     "output_type": "execute_result"
    }
   ],
   "source": [
    "np.random.randint(0, 2)"
   ]
  },
  {
   "cell_type": "code",
   "execution_count": null,
   "metadata": {},
   "outputs": [],
   "source": [
    "graph_generator_args = [\n",
    "    {\n",
    "        'graph_type': 'random_dag',    \n",
    "    },\n",
    "    {\n",
    "        'graph_type': 'chain',    \n",
    "    },\n",
    "    {\n",
    "        'graph_type': 'star',\n",
    "        'n': 5,\n",
    "    }\n",
    "]\n",
    "class_path: lightning_toolbox.DataModule\n",
    "init_args:\n",
    "  dataset: ocd.data.SyntheticOCDDataset\n",
    "  dataset_args:\n",
    "    seed: 100\n",
    "    scm_generator: ocd.data.synthetic.InvertibleModulatedGaussianSCMGenerator\n",
    "    scm_generator_args:\n",
    "      graph_generator: ocd.data.scm.GraphGenerator\n",
    "      graph_generator_args:\n",
    "        enforce_ordering: [0, 1, 2]\n",
    "        graph_type: random_dag\n",
    "        n: 3\n",
    "        p: 0.7\n",
    "        m: 2\n",
    "        seed: 333\n",
    "      seed: 100\n",
    "      std: 1.0\n",
    "      mean: 0.0\n",
    "      weight_s: [1, 2]\n",
    "      weight_t: [1, 2]\n",
    "      s_function: >\n",
    "        lambda x: numpy.log(1 + numpy.exp(x))\n",
    "      s_function_signature: softplus\n",
    "      t_function: >\n",
    "        lambda x: x ** 3 + 10\n",
    "      t_function_signature: cube_and_dislocate\n",
    "    observation_size: 10240\n",
    "  val_size: 0.1\n",
    "  batch_size: 128\n"
   ]
  },
  {
   "cell_type": "code",
   "execution_count": null,
   "metadata": {},
   "outputs": [],
   "source": []
  }
 ],
 "metadata": {
  "kernelspec": {
   "display_name": "Python 3 (ipykernel)",
   "language": "python",
   "name": "python3"
  },
  "language_info": {
   "codemirror_mode": {
    "name": "ipython",
    "version": 3
   },
   "file_extension": ".py",
   "mimetype": "text/x-python",
   "name": "python",
   "nbconvert_exporter": "python",
   "pygments_lexer": "ipython3",
   "version": "3.9.10"
  },
  "orig_nbformat": 4
 },
 "nbformat": 4,
 "nbformat_minor": 2
}
