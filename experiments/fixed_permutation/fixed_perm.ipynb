{
 "cells": [
  {
   "cell_type": "code",
   "execution_count": 1,
   "metadata": {},
   "outputs": [],
   "source": [
    "%load_ext autoreload\n",
    "%autoreload 2\n",
    "import sys\n",
    "sys.path.append(\"../..\")  # add parent directory to path\n",
    "from lightning_toolbox import DataModule, TrainingModule\n",
    "from lightning import Trainer, seed_everything\n",
    "from lightning.pytorch.loggers import TensorBoardLogger, WandbLogger\n",
    "from lightning.pytorch.callbacks import LearningRateMonitor\n",
    "from ocd.models.permutation.utils import all_permutations, abbriviate_permutation\n",
    "from ocd.data import SyntheticOCDDataset\n",
    "from matplotlib import pyplot as plt\n",
    "import copy\n",
    "import random\n",
    "import yaml\n",
    "import wandb\n",
    "# load and setup base configs\n",
    "model_config = yaml.load(open('/h/hamidk/ocd/experiments/fixed_permutation/config/model.yaml'), Loader=yaml.FullLoader)['init_args']\n",
    "training_config = yaml.load(open('/h/hamidk/ocd/experiments/fixed_permutation/config/trainer.yaml'), Loader=yaml.FullLoader)"
   ]
  },
  {
   "cell_type": "code",
   "execution_count": 2,
   "metadata": {},
   "outputs": [],
   "source": [
    "\n",
    "proj_name = input(\"Enter the project name to display on wandb: \")\n",
    "\n",
    "# utility functions\n",
    "def set_model_config(n, model_config, num_transforms=3, num_layers=3, ordering=None):\n",
    "    model_config = copy.deepcopy(model_config)\n",
    "    if ordering is None:\n",
    "        ordering = list(range(n))\n",
    "    model_config[\"model_args\"][\"num_transforms\"] = num_transforms\n",
    "    model_config[\"model_args\"][\"layers\"] = [n] * num_layers\n",
    "    model_config[\"model_args\"][\"ordering\"] = ordering\n",
    "    model_config[\"model_args\"][\"in_features\"] = n\n",
    "    return model_config\n",
    "\n",
    "\n",
    "def set_data_config(n, data_config, true_perm):\n",
    "    data_config = copy.deepcopy(data_config)\n",
    "    data_config[\"dataset_args\"][\"scm_generator_args\"][\"graph_generator_args\"][\"enforce_ordering\"] = true_perm\n",
    "    data_config[\"dataset_args\"][\"scm_generator_args\"][\"graph_generator_args\"][\"n\"] = n\n",
    "    return data_config\n",
    "\n",
    "\n",
    "def describe_data(dataset, true_perm):\n",
    "    dataset.scm.draw()\n",
    "    data = dataset.samples.to_numpy()\n",
    "    plt.title(f\"SCM ${abbriviate_permutation(true_perm)}$\")\n",
    "    plt.show()\n",
    "    for i in range(data.shape[1]):\n",
    "        plt.hist(data[:, i], bins=100, density=True, alpha=0.5, label=f\"$x_{i}$\")\n",
    "    plt.title(f\"True permutation: ${abbriviate_permutation(true_perm)}$\")\n",
    "    plt.legend()\n",
    "    plt.show()\n",
    "    return dataset\n",
    "\n",
    "\n",
    "def setup_datamodule(data_config):\n",
    "    dataset = SyntheticOCDDataset(**data_config[\"dataset_args\"])\n",
    "    true_perm = data_config[\"dataset_args\"][\"scm_generator_args\"][\"graph_generator_args\"][\"enforce_ordering\"]\n",
    "    describe_data(dataset, true_perm)\n",
    "    return DataModule(**{**data_config, \"dataset\": dataset})\n",
    "\n",
    "\n",
    "def setup_logger_tensorboard(n, perm, true_perm, base_name):\n",
    "    version = abbriviate_permutation(perm)\n",
    "    return TensorBoardLogger(\n",
    "        save_dir=\"lightning_logs\", name=f\"{base_name}-{n}\", version=version if perm != true_perm else version + \"-true\"\n",
    "    )\n",
    "\n",
    "\n",
    "def setup_logger_wandb(n, perm, true_perm, base_name):\n",
    "    version = abbriviate_permutation(perm)\n",
    "    name = f\"{base_name}-{n}/{version if perm != true_perm else version + '-true'}\"\n",
    "    return WandbLogger(project=proj_name, name=name)\n",
    "\n",
    "\n",
    "setup_logger = setup_logger_wandb\n",
    "\n",
    "\n",
    "def test_fixed_permutations(n, data_config, model_config, training_config, seed=666, base_name=\"fixed\"):\n",
    "    all_perms = all_permutations(n)\n",
    "    true_perm = all_perms[random.randint(0, n - 1)]  # pick a random permutation to be the true one\n",
    "    dm = setup_datamodule(set_data_config(n, data_config, true_perm))\n",
    "    for i, perm in enumerate(all_perms):\n",
    "        seed_everything(seed)\n",
    "        tm = TrainingModule(**set_model_config(n, model_config, ordering=perm))\n",
    "        print(f\"Training with permutation {perm}, true ordering is {true_perm}\")\n",
    "        trainer = Trainer(\n",
    "            **training_config,\n",
    "            logger=setup_logger(n, perm, true_perm, base_name),\n",
    "            callbacks=[LearningRateMonitor(logging_interval=\"step\")],\n",
    "        )\n",
    "        trainer.fit(tm, dm)\n",
    "        # Add the data configurations to wandb logger\n",
    "        trainer.logger.experiment.config.update(data_config)\n",
    "        \n",
    "        wandb.finish()\n"
   ]
  },
  {
   "cell_type": "code",
   "execution_count": null,
   "metadata": {},
   "outputs": [],
   "source": [
    "# test the simplified model with chain graphs\n",
    "data_config = yaml.load(open('/h/hamidk/ocd/experiments/fixed_permutation/config/data-poly.yaml'), Loader=yaml.FullLoader)['init_args']\n",
    "\n",
    "data_config[\"dataset_args\"][\"scm_generator_args\"][\"graph_generator_args\"]['graph_type'] = 'erdos_renyi'\n",
    "model_config = yaml.load(open('/h/hamidk/ocd/experiments/fixed_permutation/config/model.yaml'), Loader=yaml.FullLoader)['init_args']\n",
    "for i in range(3, 4):\n",
    "    test_fixed_permutations(i, data_config, model_config, training_config, base_name='poly-chain')\n"
   ]
  },
  {
   "cell_type": "code",
   "execution_count": 3,
   "metadata": {},
   "outputs": [
    {
     "ename": "NameError",
     "evalue": "name 'np' is not defined",
     "output_type": "error",
     "traceback": [
      "\u001b[0;31m---------------------------------------------------------------------------\u001b[0m",
      "\u001b[0;31mNameError\u001b[0m                                 Traceback (most recent call last)",
      "Cell \u001b[0;32mIn[3], line 8\u001b[0m\n\u001b[1;32m      6\u001b[0m data_config[\u001b[39m\"\u001b[39m\u001b[39mdataset_args\u001b[39m\u001b[39m\"\u001b[39m][\u001b[39m\"\u001b[39m\u001b[39mscm_generator_args\u001b[39m\u001b[39m\"\u001b[39m][\u001b[39m\"\u001b[39m\u001b[39mgraph_generator_args\u001b[39m\u001b[39m\"\u001b[39m][\u001b[39m'\u001b[39m\u001b[39mgraph_type\u001b[39m\u001b[39m'\u001b[39m] \u001b[39m=\u001b[39m \u001b[39m'\u001b[39m\u001b[39merdos_renyi\u001b[39m\u001b[39m'\u001b[39m\n\u001b[1;32m      7\u001b[0m \u001b[39mfor\u001b[39;00m i \u001b[39min\u001b[39;00m \u001b[39mrange\u001b[39m(\u001b[39m3\u001b[39m, \u001b[39m5\u001b[39m):\n\u001b[0;32m----> 8\u001b[0m     test_fixed_permutations(i, data_config, model_config, training_config, base_name\u001b[39m=\u001b[39;49m\u001b[39m'\u001b[39;49m\u001b[39msoftplus-erdos-renyi\u001b[39;49m\u001b[39m'\u001b[39;49m)\n\u001b[1;32m     10\u001b[0m data_config[\u001b[39m\"\u001b[39m\u001b[39mdataset_args\u001b[39m\u001b[39m\"\u001b[39m][\u001b[39m\"\u001b[39m\u001b[39mscm_generator_args\u001b[39m\u001b[39m\"\u001b[39m][\u001b[39m\"\u001b[39m\u001b[39mgraph_generator_args\u001b[39m\u001b[39m\"\u001b[39m][\u001b[39m'\u001b[39m\u001b[39mgraph_type\u001b[39m\u001b[39m'\u001b[39m] \u001b[39m=\u001b[39m \u001b[39m'\u001b[39m\u001b[39mchain\u001b[39m\u001b[39m'\u001b[39m\n\u001b[1;32m     11\u001b[0m model_config \u001b[39m=\u001b[39m yaml\u001b[39m.\u001b[39mload(\u001b[39mopen\u001b[39m(\u001b[39m'\u001b[39m\u001b[39m/h/hamidk/ocd/experiments/fixed_permutation/config/model.yaml\u001b[39m\u001b[39m'\u001b[39m), Loader\u001b[39m=\u001b[39myaml\u001b[39m.\u001b[39mFullLoader)[\u001b[39m'\u001b[39m\u001b[39minit_args\u001b[39m\u001b[39m'\u001b[39m]\n",
      "Cell \u001b[0;32mIn[2], line 61\u001b[0m, in \u001b[0;36mtest_fixed_permutations\u001b[0;34m(n, data_config, model_config, training_config, seed, base_name)\u001b[0m\n\u001b[1;32m     59\u001b[0m all_perms \u001b[39m=\u001b[39m all_permutations(n)\n\u001b[1;32m     60\u001b[0m true_perm \u001b[39m=\u001b[39m all_perms[random\u001b[39m.\u001b[39mrandint(\u001b[39m0\u001b[39m, n \u001b[39m-\u001b[39m \u001b[39m1\u001b[39m)]  \u001b[39m# pick a random permutation to be the true one\u001b[39;00m\n\u001b[0;32m---> 61\u001b[0m dm \u001b[39m=\u001b[39m setup_datamodule(set_data_config(n, data_config, true_perm))\n\u001b[1;32m     62\u001b[0m \u001b[39mfor\u001b[39;00m i, perm \u001b[39min\u001b[39;00m \u001b[39menumerate\u001b[39m(all_perms):\n\u001b[1;32m     63\u001b[0m     seed_everything(seed)\n",
      "Cell \u001b[0;32mIn[2], line 36\u001b[0m, in \u001b[0;36msetup_datamodule\u001b[0;34m(data_config)\u001b[0m\n\u001b[1;32m     35\u001b[0m \u001b[39mdef\u001b[39;00m \u001b[39msetup_datamodule\u001b[39m(data_config):\n\u001b[0;32m---> 36\u001b[0m     dataset \u001b[39m=\u001b[39m SyntheticOCDDataset(\u001b[39m*\u001b[39;49m\u001b[39m*\u001b[39;49mdata_config[\u001b[39m\"\u001b[39;49m\u001b[39mdataset_args\u001b[39;49m\u001b[39m\"\u001b[39;49m])\n\u001b[1;32m     37\u001b[0m     true_perm \u001b[39m=\u001b[39m data_config[\u001b[39m\"\u001b[39m\u001b[39mdataset_args\u001b[39m\u001b[39m\"\u001b[39m][\u001b[39m\"\u001b[39m\u001b[39mscm_generator_args\u001b[39m\u001b[39m\"\u001b[39m][\u001b[39m\"\u001b[39m\u001b[39mgraph_generator_args\u001b[39m\u001b[39m\"\u001b[39m][\u001b[39m\"\u001b[39m\u001b[39menforce_ordering\u001b[39m\u001b[39m\"\u001b[39m]\n\u001b[1;32m     38\u001b[0m     describe_data(dataset, true_perm)\n",
      "File \u001b[0;32m/ssd003/home/hamidk/ocd/ocd/data/synthetic_dataset.py:34\u001b[0m, in \u001b[0;36mSyntheticOCDDataset.__init__\u001b[0;34m(self, observation_size, scm_generator, scm_generator_args, seed, name)\u001b[0m\n\u001b[1;32m     32\u001b[0m \u001b[39mself\u001b[39m\u001b[39m.\u001b[39mseed \u001b[39m=\u001b[39m seed\n\u001b[1;32m     33\u001b[0m \u001b[39mself\u001b[39m\u001b[39m.\u001b[39mscm \u001b[39m=\u001b[39m scm_generator\u001b[39m.\u001b[39mgenerate_scm()\n\u001b[0;32m---> 34\u001b[0m df \u001b[39m=\u001b[39m \u001b[39mself\u001b[39;49m\u001b[39m.\u001b[39;49mscm\u001b[39m.\u001b[39;49msimulate(observation_size, seed\u001b[39m=\u001b[39;49m\u001b[39mself\u001b[39;49m\u001b[39m.\u001b[39;49mseed)\n\u001b[1;32m     35\u001b[0m \u001b[39msuper\u001b[39m()\u001b[39m.\u001b[39m\u001b[39m__init__\u001b[39m(samples\u001b[39m=\u001b[39mdf, dag\u001b[39m=\u001b[39m\u001b[39mself\u001b[39m\u001b[39m.\u001b[39mscm\u001b[39m.\u001b[39mdag, name\u001b[39m=\u001b[39mname, explanation\u001b[39m=\u001b[39m\u001b[39mself\u001b[39m\u001b[39m.\u001b[39mscm\u001b[39m.\u001b[39mget_description())\n",
      "File \u001b[0;32m/ssd003/home/hamidk/ocd/ocd/data/scm/base_scm.py:124\u001b[0m, in \u001b[0;36mSCM.simulate\u001b[0;34m(self, n_samples, seed, intervention_nodes, intervention_functions)\u001b[0m\n\u001b[1;32m    120\u001b[0m             \u001b[39massert\u001b[39;00m \u001b[39mlen\u001b[39m(vals[v]) \u001b[39m+\u001b[39m \u001b[39m1\u001b[39m \u001b[39m==\u001b[39m \u001b[39mlen\u001b[39m(\n\u001b[1;32m    121\u001b[0m                 vals[u]\n\u001b[1;32m    122\u001b[0m             ), \u001b[39mf\u001b[39m\u001b[39m\"\u001b[39m\u001b[39mA parent has not been assigned a value yet: \u001b[39m\u001b[39m{\u001b[39;00mu\u001b[39m}\u001b[39;00m\u001b[39m \u001b[39m\u001b[39m{\u001b[39;00mv\u001b[39m}\u001b[39;00m\u001b[39m \u001b[39m\u001b[39m{\u001b[39;00mvals\u001b[39m}\u001b[39;00m\u001b[39m\"\u001b[39m\n\u001b[1;32m    123\u001b[0m             parent_values\u001b[39m.\u001b[39mappend(vals[u][\u001b[39m-\u001b[39m\u001b[39m1\u001b[39m])\n\u001b[0;32m--> 124\u001b[0m         new_val \u001b[39m=\u001b[39m func(noise, parent_values, \u001b[39mself\u001b[39;49m\u001b[39m.\u001b[39;49mparent_parameters[v], \u001b[39mself\u001b[39;49m\u001b[39m.\u001b[39;49mnode_parameters[v])\n\u001b[1;32m    125\u001b[0m         vals[v]\u001b[39m.\u001b[39mappend(new_val)\n\u001b[1;32m    127\u001b[0m samples \u001b[39m=\u001b[39m pd\u001b[39m.\u001b[39mDataFrame(vals)\n",
      "File \u001b[0;32m/ssd003/home/hamidk/ocd/ocd/data/scm/non_linear_invertible_gaussian_scm_generator.py:136\u001b[0m, in \u001b[0;36mInvertibleModulatedGaussianSCMGenerator.get_covariate_from_parents\u001b[0;34m(self, noise, parents, parent_parameters, node_parameters)\u001b[0m\n\u001b[1;32m    129\u001b[0m \u001b[39mdef\u001b[39;00m \u001b[39mget_covariate_from_parents\u001b[39m(\n\u001b[1;32m    130\u001b[0m     \u001b[39mself\u001b[39m,\n\u001b[1;32m    131\u001b[0m     noise: \u001b[39mfloat\u001b[39m,\n\u001b[0;32m   (...)\u001b[0m\n\u001b[1;32m    134\u001b[0m     node_parameters: th\u001b[39m.\u001b[39mList[th\u001b[39m.\u001b[39mDict[\u001b[39mstr\u001b[39m, th\u001b[39m.\u001b[39mAny]],\n\u001b[1;32m    135\u001b[0m ) \u001b[39m-\u001b[39m\u001b[39m>\u001b[39m \u001b[39mfloat\u001b[39m:\n\u001b[0;32m--> 136\u001b[0m     t \u001b[39m=\u001b[39m \u001b[39mself\u001b[39;49m\u001b[39m.\u001b[39;49mt_function(\n\u001b[1;32m    137\u001b[0m         \u001b[39msum\u001b[39;49m([p \u001b[39m*\u001b[39;49m pp[\u001b[39m\"\u001b[39;49m\u001b[39mweight_t\u001b[39;49m\u001b[39m\"\u001b[39;49m] \u001b[39mfor\u001b[39;49;00m p, pp \u001b[39min\u001b[39;49;00m \u001b[39mzip\u001b[39;49m(parents,\n\u001b[1;32m    138\u001b[0m             parent_parameters)]) \u001b[39m+\u001b[39;49m node_parameters[\u001b[39m\"\u001b[39;49m\u001b[39mweight_t\u001b[39;49m\u001b[39m\"\u001b[39;49m]\n\u001b[1;32m    139\u001b[0m     )\n\u001b[1;32m    140\u001b[0m     s \u001b[39m=\u001b[39m \u001b[39mself\u001b[39m\u001b[39m.\u001b[39ms_function(\n\u001b[1;32m    141\u001b[0m         \u001b[39msum\u001b[39m([p \u001b[39m*\u001b[39m pp[\u001b[39m\"\u001b[39m\u001b[39mweight_s\u001b[39m\u001b[39m\"\u001b[39m] \u001b[39mfor\u001b[39;00m p, pp \u001b[39min\u001b[39;00m \u001b[39mzip\u001b[39m(parents,\n\u001b[1;32m    142\u001b[0m             parent_parameters)]) \u001b[39m+\u001b[39m node_parameters[\u001b[39m\"\u001b[39m\u001b[39mweight_s\u001b[39m\u001b[39m\"\u001b[39m]\n\u001b[1;32m    143\u001b[0m     )\n\u001b[1;32m    144\u001b[0m     \u001b[39mreturn\u001b[39;00m t \u001b[39m+\u001b[39m s \u001b[39m*\u001b[39m noise\n",
      "File \u001b[0;32m<string>:1\u001b[0m, in \u001b[0;36m<lambda>\u001b[0;34m(x)\u001b[0m\n",
      "\u001b[0;31mNameError\u001b[0m: name 'np' is not defined"
     ]
    }
   ],
   "source": [
    "\n",
    "\n",
    "# test the simplified model with chain graphs\n",
    "data_config = yaml.load(open('/h/hamidk/ocd/experiments/fixed_permutation/config/data-softplus.yaml'), Loader=yaml.FullLoader)['init_args']\n",
    "\n",
    "data_config[\"dataset_args\"][\"scm_generator_args\"][\"graph_generator_args\"]['graph_type'] = 'erdos_renyi'\n",
    "for i in range(3, 5):\n",
    "    test_fixed_permutations(i, data_config, model_config, training_config, base_name='softplus-erdos-renyi')\n",
    "    \n",
    "data_config[\"dataset_args\"][\"scm_generator_args\"][\"graph_generator_args\"]['graph_type'] = 'chain'\n",
    "model_config = yaml.load(open('/h/hamidk/ocd/experiments/fixed_permutation/config/model.yaml'), Loader=yaml.FullLoader)['init_args']\n",
    "for i in range(3, 5):\n",
    "    test_fixed_permutations(i, data_config, model_config, training_config, base_name='softplus-chain')\n"
   ]
  },
  {
   "cell_type": "code",
   "execution_count": null,
   "metadata": {},
   "outputs": [],
   "source": []
  }
 ],
 "metadata": {
  "kernelspec": {
   "display_name": "venv",
   "language": "python",
   "name": "venv"
  },
  "language_info": {
   "codemirror_mode": {
    "name": "ipython",
    "version": 3
   },
   "file_extension": ".py",
   "mimetype": "text/x-python",
   "name": "python",
   "nbconvert_exporter": "python",
   "pygments_lexer": "ipython3",
   "version": "3.9.10"
  },
  "orig_nbformat": 4,
  "vscode": {
   "interpreter": {
    "hash": "a6ddc850e911a156fe118e80ba65365bd3516e549050c438a9124b82c67066ec"
   }
  }
 },
 "nbformat": 4,
 "nbformat_minor": 2
}
