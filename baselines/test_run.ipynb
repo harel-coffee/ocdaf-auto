{
 "cells": [
  {
   "cell_type": "code",
   "execution_count": 2,
   "metadata": {},
   "outputs": [],
   "source": [
    "from score import Score\n",
    "from cam import CAM\n",
    "from permutohedron import Permutohedron\n",
    "from tqdm import tqdm\n",
    "import sys\n",
    "sys.path.append(\"..\")\n",
    "import pandas as pd\n",
    "from pathlib import Path\n",
    "import yaml\n",
    "%load_ext autoreload\n",
    "%autoreload 2\n"
   ]
  },
  {
   "cell_type": "code",
   "execution_count": 5,
   "metadata": {},
   "outputs": [],
   "source": [
    "def evaluate_model(data_configs, baseline_cls, baseline_args = None):\n",
    "    data_configs = [str(x) for x in data_configs]\n",
    "    baseline_args = {} if baseline_args is None else baseline_args\n",
    "    results = []\n",
    "    for config_file in tqdm(data_configs):\n",
    "        data_config = yaml.load(open(config_file, \"r\"), Loader=yaml.FullLoader)[\"init_args\"]\n",
    "        return data_config\n",
    "        baseline = baseline_cls(\n",
    "            dataset=data_config[\"dataset\"],\n",
    "            dataset_args=data_config[\"dataset_args\"],\n",
    "            **baseline_args\n",
    "        )\n",
    "        results.append({\"name\": config_file.split(\"/\")[-1].split(\".\")[0], \"baseline\": baseline.name, **baseline.evaluate()})\n",
    "        \n",
    "    return pd.DataFrame(results)"
   ]
  },
  {
   "cell_type": "code",
   "execution_count": null,
   "metadata": {},
   "outputs": [],
   "source": [
    "Permutohedron()"
   ]
  },
  {
   "cell_type": "code",
   "execution_count": 6,
   "metadata": {},
   "outputs": [
    {
     "name": "stderr",
     "output_type": "stream",
     "text": [
      "0it [00:00, ?it/s]\n"
     ]
    }
   ],
   "source": [
    "data_config = evaluate_model(list(Path(\"../experiments/data/test/\").glob(\"*.yaml\")), Permutohedron)"
   ]
  },
  {
   "cell_type": "code",
   "execution_count": null,
   "metadata": {},
   "outputs": [],
   "source": [
    "evaluate_model(list(Path(\"../experiments/data/test/\").glob(\"*.yaml\")), CAM)"
   ]
  },
  {
   "cell_type": "code",
   "execution_count": null,
   "metadata": {},
   "outputs": [],
   "source": [
    "evaluate_model(list(Path(\"../experiments/data/test/\").glob(\"*.yaml\")), Score)"
   ]
  }
 ],
 "metadata": {
  "kernelspec": {
   "display_name": ".pytorch2_env",
   "language": "python",
   "name": ".pytorch2_env"
  },
  "language_info": {
   "codemirror_mode": {
    "name": "ipython",
    "version": 3
   },
   "file_extension": ".py",
   "mimetype": "text/x-python",
   "name": "python",
   "nbconvert_exporter": "python",
   "pygments_lexer": "ipython3",
   "version": "3.9.12"
  }
 },
 "nbformat": 4,
 "nbformat_minor": 2
}
