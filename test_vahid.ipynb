{
 "cells": [
  {
   "cell_type": "code",
   "execution_count": null,
   "metadata": {},
   "outputs": [],
   "source": [
    "import lightning\n",
    "import lightning.pytorch.callbacks \n",
    "from ocd.training import OrderedTrainingModule"
   ]
  },
  {
   "cell_type": "code",
   "execution_count": null,
   "metadata": {},
   "outputs": [],
   "source": [
    "# set callbacks for the trainer\n",
    "callbacks = [\n",
    "    # monitor the learning rate (log to tensorboard)\n",
    "    lightning.pytorch.callbacks.LearningRateMonitor(logging_interval=\"epoch\"),\n",
    "]\n",
    "\n",
    "trainer = lightning.Trainer(\n",
    "    accelerator='mps', # remove this line to run on CPU\n",
    "    callbacks=callbacks,\n",
    "    # precision=16, # for mixed precision training\n",
    "    # gradient_clip_val=1.,\n",
    ")"
   ]
  },
  {
   "cell_type": "code",
   "execution_count": null,
   "metadata": {},
   "outputs": [],
   "source": [
    "\n",
    "\n"
   ]
  },
  {
   "cell_type": "code",
   "execution_count": null,
   "metadata": {},
   "outputs": [],
   "source": [
    "# setup data\n",
    "from ocd.data import CausalDataModule\n",
    "\n",
    "dm = CausalDataModule(\n",
    "    name=\"asia\",  # small dataset asia\n",
    "    observation_size=2048, # number of observation samples\n",
    "    intervention_size=0,  # set to 0 for no intervention\n",
    "    batch_size=128, \n",
    "    num_workers=0,  # set to 0 for no multiprocessing\n",
    "    val_size=0.1,  # 10% of data for validation, or use int for exact number of samples, set to 0 for no validation\n",
    "    pin_memory=True,  # set to True for faster data transfer to GPU (if available)\n",
    ")\n",
    "dm.setup(\"fit\")\n"
   ]
  },
  {
   "cell_type": "code",
   "execution_count": null,
   "metadata": {},
   "outputs": [],
   "source": [
    "in_features = dm.train_data[0].dataset.features_values\n",
    "# if val_size = 0, then use the following line instead of the above line\n",
    "# in_features = dm.train_data[0].features_values"
   ]
  },
  {
   "cell_type": "markdown",
   "metadata": {},
   "source": []
  },
  {
   "cell_type": "code",
   "execution_count": null,
   "metadata": {},
   "outputs": [],
   "source": [
    "tm = OrderedTrainingModule(\n",
    "    in_covariate_features = in_features,\n",
    "    hidden_features_per_covariate = [\n",
    "        [128 for i in range(len(in_features))],\n",
    "        [64 for i in range(len(in_features))],\n",
    "         [32 for i in range(len(in_features))],\n",
    "    ],\n",
    "    optimizer='torch.optim.AdamW',\n",
    "    tau_scheduler='lambda training_module: 0.09 * (0.9 ** (training_module.current_epoch))',\n",
    "    lr=0.00001,\n",
    "    # scheduler='torch.optim.lr_scheduler.ExponentialLR',\n",
    "    # scheduler_interval='epoch',\n",
    "    # scheduler_args={'gamma': 0.99},\n",
    ")"
   ]
  },
  {
   "cell_type": "code",
   "execution_count": null,
   "metadata": {},
   "outputs": [],
   "source": [
    "trainer.fit(tm, dm)"
   ]
  },
  {
   "cell_type": "code",
   "execution_count": null,
   "metadata": {},
   "outputs": [],
   "source": []
  }
 ],
 "metadata": {
  "kernelspec": {
   "display_name": "Python 3.9.15 64-bit ('causal')",
   "language": "python",
   "name": "python3"
  },
  "language_info": {
   "codemirror_mode": {
    "name": "ipython",
    "version": 3
   },
   "file_extension": ".py",
   "mimetype": "text/x-python",
   "name": "python",
   "nbconvert_exporter": "python",
   "pygments_lexer": "ipython3",
   "version": "3.9.15"
  },
  "orig_nbformat": 4,
  "vscode": {
   "interpreter": {
    "hash": "5a2f498358c3663e2e3193e62762a23cd9e21c3899e1ed9b7a4dc1ddd6985d97"
   }
  }
 },
 "nbformat": 4,
 "nbformat_minor": 2
}
