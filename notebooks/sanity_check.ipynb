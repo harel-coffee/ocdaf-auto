{
 "cells": [
  {
   "cell_type": "markdown",
   "metadata": {},
   "source": [
    "# Sanity checks\n",
    "\n",
    "Here we will perform a bunch of sanity checks on the model to see if its working as desired or not."
   ]
  },
  {
   "cell_type": "markdown",
   "metadata": {},
   "source": [
    "### Checking optimal log-likelihoods per permutation\n",
    "\n",
    "For the end-to-end model of learning both causal ordering as well as the model parameters to work, different permutations should produce different log-likelihoods with the optimal permutation producing the best likelihood possible."
   ]
  },
  {
   "cell_type": "code",
   "execution_count": 1,
   "metadata": {},
   "outputs": [],
   "source": [
    "%load_ext autoreload"
   ]
  },
  {
   "cell_type": "code",
   "execution_count": 2,
   "metadata": {},
   "outputs": [],
   "source": [
    "%autoreload 2\n",
    "import sys\n",
    "sys.path.append('..')\n",
    "\n",
    "\n",
    "# setup data\n",
    "from ocd.data import CausalDataModule\n",
    "import dycode\n",
    "import torch\n",
    "\n",
    "# setup model\n",
    "import lightning\n",
    "import lightning.pytorch.callbacks\n",
    "from ocd.training import OrderedTrainingModule\n",
    "\n",
    "\n",
    "dm = CausalDataModule(\n",
    "    name=\"asia\",  # small dataset asia\n",
    "    observation_size=4096,  # number of observation samples\n",
    "    intervention_size=256,  # set to 0 for no intervention\n",
    "    batch_size=64,\n",
    "    num_workers=0,  # set to 0 for no multiprocessing\n",
    "    val_size=0,  # 10% of data for validation, or use int for exact number of samples, set to 0 for no validation\n",
    "    pin_memory=True,  # set to True for faster data transfer to GPU (if available)\n",
    ")\n",
    "dm.setup(\"fit\")\n",
    "\n",
    "\n",
    "# Extract the category sizes\n",
    "in_features = dm.train_data[0].features_values\n"
   ]
  },
  {
   "cell_type": "markdown",
   "metadata": {},
   "source": [
    "Setup a fixed permutation below and train the model."
   ]
  },
  {
   "cell_type": "code",
   "execution_count": 3,
   "metadata": {},
   "outputs": [
    {
     "name": "stderr",
     "output_type": "stream",
     "text": [
      "GPU available: False, used: False\n",
      "TPU available: False, using: 0 TPU cores\n",
      "IPU available: False, using: 0 IPUs\n",
      "HPU available: False, using: 0 HPUs\n"
     ]
    },
    {
     "name": "stdout",
     "output_type": "stream",
     "text": [
      "Enter experiment type:\n",
      "\t[whole] run the whole algorith\n",
      "\t[correct_order] run the whole algorith\n",
      "\t[INT] create a random permutation that is fixed and obtained from the input seed\n"
     ]
    }
   ],
   "source": [
    "import random\n",
    "from ocd.utils import topological_sort\n",
    "\n",
    "prompt = False\n",
    "\n",
    "# Set the permutation to be used, use the seed to switch between permutations\n",
    "\n",
    "print(\"Enter experiment type:\")\n",
    "print(\"\\t[whole] run the whole algorith\")\n",
    "print(\"\\t[correct_order] run the whole algorith\")\n",
    "print(\"\\t[INT] create a random permutation that is fixed and obtained from the input seed\")\n",
    "resp = 'whole' if not prompt else input(\"enter: \")\n",
    "\n",
    "VERSION = resp\n",
    "FIXED_PERMUTATION = None\n",
    "\n",
    "if resp == 'whole':\n",
    "    pass\n",
    "elif resp == 'correct_order':\n",
    "    FIXED_PERMUTATION = topological_sort(dm.datasets[0].dag)\n",
    "    print(f\"Permutation being used\\n{FIXED_PERMUTATION}\")\n",
    "else:\n",
    "    seed = int(resp)\n",
    "    VERSION = f'random_fixed_{seed}'\n",
    "    random.seed(seed)\n",
    "    FIXED_PERMUTATION = list(range(len(in_features)))\n",
    "    random.shuffle(FIXED_PERMUTATION)\n",
    "    print(f\"Permutation being used\\n{FIXED_PERMUTATION}\")\n",
    "\n",
    "from lightning.pytorch import loggers as pl_loggers\n",
    "\n",
    "logger = pl_loggers.tensorboard.TensorBoardLogger(\"lightning_logs\", name=\"sanity_check\", version=VERSION)\n",
    "\n",
    "# set callbacks for the trainer\n",
    "callbacks = [\n",
    "    # monitor the learning rate (log to tensorboard)\n",
    "    lightning.pytorch.callbacks.LearningRateMonitor(logging_interval=\"epoch\"),\n",
    "]\n",
    "\n",
    "trainer = lightning.Trainer(\n",
    "    # accelerator=\"mps\",  # remove this line to run on CPU\n",
    "    callbacks=callbacks,\n",
    "    # precision=16, # for mixed precision training\n",
    "    # gradient_clip_val=1.0,\n",
    "    # gradient_clip_algorithm=\"value\",\n",
    "    max_epochs=10000,\n",
    "    track_grad_norm=\"inf\",\n",
    "    log_every_n_steps=1,\n",
    "    logger=logger,\n",
    "    # overfit_batches=3,\n",
    "    # detect_anomaly=True,\n",
    ")\n",
    "dycode.register_context(torch)\n"
   ]
  },
  {
   "cell_type": "markdown",
   "metadata": {},
   "source": [
    "Setup the training module using the fixed permutation and check the value of loss after covergence."
   ]
  },
  {
   "cell_type": "code",
   "execution_count": 4,
   "metadata": {},
   "outputs": [],
   "source": [
    "# set torch.anomaly_detection(True) to debug\n",
    "import torch\n",
    "\n",
    "# Extract the category sizes\n",
    "in_features = dm.train_data[0].features_values\n",
    "\n",
    "\n",
    "# torch.autograd.set_detect_anomaly(True)\n",
    "tm = OrderedTrainingModule(\n",
    "    in_covariate_features=in_features,\n",
    "    hidden_features_per_covariate=[\n",
    "        [128 for i in range(len(in_features))],\n",
    "        [64 for i in range(len(in_features))],\n",
    "        [32 for i in range(len(in_features))],\n",
    "    ],\n",
    "    fixed_permutation=FIXED_PERMUTATION,\n",
    "    log_permutation=True,\n",
    "    log_permutation_freq=1,\n",
    "    batch_norm=False,\n",
    "    criterion_args=dict(\n",
    "        terms=[\n",
    "            \"ocd.training.terms.OrderedLikelihoodTerm\",\n",
    "            # \"ocd.training.terms.PermanentMatrixPenalizer\",\n",
    "            dict(\n",
    "                name=\"norm(gamma)\",\n",
    "                term_function='lambda training_module: training_module.model.Gamma.norm(float(\"inf\"))',\n",
    "                factor=0,\n",
    "            ),\n",
    "            dict(\n",
    "                name=\"norm(layers)\",\n",
    "                term_function='lambda training_module: max([layer.linear.weight.norm(float(\"inf\")) for layer in training_module.model.made.layers])',\n",
    "                factor=0,\n",
    "            ),\n",
    "            # dict(\n",
    "            #     name='nothing',\n",
    "            #     term_function='def term(training_module, batch):\\n\\ttraining_module.batch=batch\\n\\treturn torch.zeros(1, device=batch.device)',\n",
    "            #     factor=0,\n",
    "            # )\n",
    "        ]\n",
    "    ),\n",
    "    optimizer=['torch.optim.Adam', 'torch.optim.Adam'],\n",
    "    optimizer_parameters=['model.made', 'model.Gamma'],\n",
    "    optimizer_args=[\n",
    "        dict(\n",
    "            weight_decay=0.0001,\n",
    "        ),\n",
    "        dict()\n",
    "    ],\n",
    "    optimizer_is_active=[\n",
    "        'lambda training_module: training_module.current_epoch % 10 < 10',\n",
    "        'lambda training_module: training_module.current_epoch % 10 < 10',\n",
    "    ],\n",
    "    tau_scheduler=\"lambda training_module: max(0.003, 0.5 * 0.89 ** (training_module.current_epoch // 1))\",\n",
    "    n_sinkhorn_scheduler=\"lambda training_module: min(60, max(20, 20 + ((training_module.current_epoch - 20) // 10)))\",\n",
    "    lr=0.001,\n",
    "    scheduler=\"torch.optim.lr_scheduler.ExponentialLR\",\n",
    "    scheduler_interval=\"epoch\",\n",
    "    scheduler_args={\"gamma\": 0.999},\n",
    ")\n"
   ]
  },
  {
   "cell_type": "code",
   "execution_count": 5,
   "metadata": {},
   "outputs": [
    {
     "name": "stderr",
     "output_type": "stream",
     "text": [
      "\n",
      "  | Name  | Type                   | Params\n",
      "-------------------------------------------------\n",
      "0 | model | SinkhornOrderDiscovery | 677 K \n",
      "-------------------------------------------------\n",
      "677 K     Trainable params\n",
      "0         Non-trainable params\n",
      "677 K     Total params\n",
      "2.711     Total estimated model params size (MB)\n"
     ]
    },
    {
     "data": {
      "application/vnd.jupyter.widget-view+json": {
       "model_id": "f6f2f0b8679542d8b0efcbc2f41f66b8",
       "version_major": 2,
       "version_minor": 0
      },
      "text/plain": [
       "Sanity Checking: 0it [00:00, ?it/s]"
      ]
     },
     "metadata": {},
     "output_type": "display_data"
    },
    {
     "data": {
      "application/vnd.jupyter.widget-view+json": {
       "model_id": "82134de9ee664211a637f20a03f5fbcb",
       "version_major": 2,
       "version_minor": 0
      },
      "text/plain": [
       "Training: 0it [00:00, ?it/s]"
      ]
     },
     "metadata": {},
     "output_type": "display_data"
    }
   ],
   "source": [
    "trainer.fit(tm, dm)\n"
   ]
  }
 ],
 "metadata": {
  "kernelspec": {
   "display_name": "Python 3.10.9 ('venv': venv)",
   "language": "python",
   "name": "python3"
  },
  "language_info": {
   "codemirror_mode": {
    "name": "ipython",
    "version": 3
   },
   "file_extension": ".py",
   "mimetype": "text/x-python",
   "name": "python",
   "nbconvert_exporter": "python",
   "pygments_lexer": "ipython3",
   "version": "3.10.9"
  },
  "orig_nbformat": 4,
  "vscode": {
   "interpreter": {
    "hash": "52095eaac6f7430dcd770b4bb1719550039f99e3c10e23775974db5ba0b67989"
   }
  }
 },
 "nbformat": 4,
 "nbformat_minor": 2
}
