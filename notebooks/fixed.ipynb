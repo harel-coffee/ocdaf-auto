{
 "cells": [
  {
   "cell_type": "code",
   "execution_count": 47,
   "metadata": {},
   "outputs": [
    {
     "name": "stdout",
     "output_type": "stream",
     "text": [
      "The autoreload extension is already loaded. To reload it, use:\n",
      "  %reload_ext autoreload\n"
     ]
    }
   ],
   "source": [
    "%load_ext autoreload\n",
    "%autoreload 2\n",
    "import sys\n",
    "sys.path.append('..')\n",
    "import torch\n",
    "from ocd.models.no_permutation import OCDAF\n",
    "\n",
    "import torch\n",
    "import numpy as np\n",
    "import matplotlib.pyplot as plt\n",
    "from torch.utils.data import Dataset\n",
    "import lightning\n",
    "from lightning_toolbox import TrainingModule\n",
    "from lightning_toolbox.data import DataModule\n",
    "from ocd.data.module import OCDDataModule\n",
    "# from lightning_toolbox.data import DataModule"
   ]
  },
  {
   "cell_type": "code",
   "execution_count": 16,
   "metadata": {},
   "outputs": [
    {
     "name": "stdout",
     "output_type": "stream",
     "text": [
      "x(2) = gaussian(0.00, 1.00) * exp(sigmoid(8.93)) + sigmoid(3.90)\n",
      "---------------------\n",
      "\n",
      "x(0) = gaussian(0.00, 1.00) * exp(sigmoid(x(2) * 0.67 + 2.13)) + sigmoid(x(2) * 19.11 + 7.00)\n",
      "---------------------\n",
      "\n",
      "x(1) = gaussian(0.00, 1.00) * exp(sigmoid(x(0) * 12.42 + 5.06)) + sigmoid(x(0) * 10.08 + 1.17)\n",
      "---------------------\n",
      "\n"
     ]
    },
    {
     "data": {
      "image/png": "[encoded data removed]",
      "text/plain": [
       "<Figure size 640x480 with 1 Axes>"
      ]
     },
     "metadata": {},
     "output_type": "display_data"
    }
   ],
   "source": [
    "## Synthetic scm arguments\n",
    "scm_generator_class = 'ocd.data.affine_additive.scm.AffineAdditiveSCMGenerator'\n",
    "\n",
    "dims = 3\n",
    "observation_size=10240\n",
    "# an example of a generation scheme:\n",
    "graph_generation_scheme = dict(\n",
    "    graph_generator_type='chain',\n",
    "    graph_generator_args=dict(\n",
    "        n=dims,\n",
    "    )\n",
    ")\n",
    "\n",
    "# scm_generator kwargs\n",
    "scm_generator_kwargs = dict(\n",
    "    **graph_generation_scheme,\n",
    "    # function_type=\"linear_additive\",\n",
    "    function_type=\"linear_affine_with_exp_modulatd\",\n",
    "    noise_type='gaussian',\n",
    "    functional_form_generator_args=dict(\n",
    "        weight_low=0.5,\n",
    "        weight_high=20,\n",
    "        noise_std_low=1.0,\n",
    "        noise_std_high=1.0,\n",
    "        noise_mean_low=0.0,\n",
    "        noise_mean_high=0.0\n",
    "    )\n",
    ")\n",
    "\n",
    "\n",
    "dm = OCDDataModule(\n",
    "    seed=100,\n",
    "    scm_generator_class=scm_generator_class,\n",
    "    scm_generator_args=scm_generator_kwargs,\n",
    "    observation_size=observation_size,\n",
    "    batch_size=1024,\n",
    "    num_workers=0,  # set to 0 for no multiprocessing\n",
    "    val_size=0.1,\n",
    ")\n",
    "dm.setup('fit')\n",
    "dm.scm.draw()\n"
   ]
  },
  {
   "cell_type": "code",
   "execution_count": 26,
   "metadata": {},
   "outputs": [],
   "source": [
    "data = dm.datasets[0].samples.to_numpy()"
   ]
  },
  {
   "cell_type": "code",
   "execution_count": 62,
   "metadata": {},
   "outputs": [],
   "source": [
    "\n",
    "import numpy as np\n",
    "\n",
    "def sigmoid(x):\n",
    "    return 1 / (1 + np.exp(-x))\n",
    "\n",
    "def sample(n):\n",
    "    # generate x2 = gaussian(0.00, 1.00) * exp(sigmoid(8.93)) + sigmoid(3.90)\n",
    "    x2 =  np.random.normal(0.00, 1.00, n) * np.exp(sigmoid(8.93)) + sigmoid(3.90)\n",
    "    # generate x0 =  gaussian(0.00, 1.00) * exp(sigmoid(x(2) * 0.67 + 2.13)) + sigmoid(x(2) * 19.11 + 7.00)\n",
    "    x0 = np.random.normal(0.00, 1.00, n) * np.exp(sigmoid(x2 * 0.67 + 2.13)) + sigmoid(x2 * 19.11 + 7.00)\n",
    "    # generate x1 = gaussian(0.00, 1.00) * exp(sigmoid(x(0) * 12.42 + 5.06)) + sigmoid(x(0) * 10.08 + 1.17)\n",
    "    x1 = np.random.normal(0.00, 1.00, n) * np.exp(sigmoid((x0 + 0.5 * x2)  * 12.42 + 5.06)) + sigmoid((x0 + 2 * x2) * 10.08 + 1.17)\n",
    "    # stack x0, x1, x2\n",
    "    return np.stack([x0, x1, x2], axis=1)\n",
    "\n",
    "data = sample(10240)\n",
    "\n",
    "class Dataset(torch.utils.data.Dataset):\n",
    "    def __init__(self, data):\n",
    "        self.data = torch.from_numpy(data).float()\n",
    "    \n",
    "    def __len__(self):\n",
    "        return len(self.data)\n",
    "\n",
    "    def __getitem__(self, idx):\n",
    "        return self.data[idx]\n",
    "\n",
    "\n",
    "dataset = Dataset(data)"
   ]
  },
  {
   "cell_type": "code",
   "execution_count": 68,
   "metadata": {},
   "outputs": [
    {
     "name": "stderr",
     "output_type": "stream",
     "text": [
      "GPU available: True (mps), used: False\n",
      "TPU available: False, using: 0 TPU cores\n",
      "IPU available: False, using: 0 IPUs\n",
      "HPU available: False, using: 0 HPUs\n",
      "\n",
      "  | Name  | Type  | Params\n",
      "--------------------------------\n",
      "0 | model | OCDAF | 588   \n",
      "--------------------------------\n",
      "588       Trainable params\n",
      "0         Non-trainable params\n",
      "588       Total params\n",
      "0.002     Total estimated model params size (MB)\n",
      "`Trainer.fit` stopped: `max_epochs=300` reached.\n"
     ]
    }
   ],
   "source": [
    "from lightning.pytorch.loggers import TensorBoardLogger\n",
    "# ordering = [2, 0 ,1][::-1]\n",
    "# ordering = [0, 2, 1][::-1]\n",
    "ordering = [0, 1, 2][::-1]\n",
    "experiment_base = 'lightning_logs/'\n",
    "max_epoch = 300\n",
    "\n",
    "\n",
    "model = OCDAF(\n",
    "    in_features=3,\n",
    "    layers=[6, 9],\n",
    "    additive=False,\n",
    "    num_transforms=4,\n",
    "    ordering=ordering\n",
    ")\n",
    "\n",
    "tm = TrainingModule(\n",
    "    model=model,\n",
    "    criterion_args=dict(nll=\"lambda batch, training_module: -training_module.model.log_prob(*training_module.model(batch)).mean()\"),\n",
    "    optimizer='torch.optim.Adam',\n",
    "    lr=1e-3,\n",
    ")\n",
    "dm = DataModule(\n",
    "    dataset=dataset,\n",
    "    val_size=0.1,\n",
    "    batch_size=1024,\n",
    ")\n",
    "\n",
    "\n",
    "experiment_name = f\"[{','.join([str(i) for i in ordering])}]\"\n",
    "logger = TensorBoardLogger(experiment_base, name='trinary-vv-10k-trans', version=experiment_name)\n",
    "trainer = lightning.Trainer(\n",
    "    # accelerator='mps',\n",
    "    logger=logger,\n",
    "    log_every_n_steps=1,\n",
    "    max_epochs=max_epoch,\n",
    "    gradient_clip_val=1.0,\n",
    "    gradient_clip_algorithm='value', \n",
    "    enable_progress_bar=False,\n",
    ")\n",
    "trainer.fit(tm, dm)"
   ]
  },
  {
   "cell_type": "code",
   "execution_count": 51,
   "metadata": {},
   "outputs": [
    {
     "data": {
      "text/plain": [
       "torch.Size([1024, 3])"
      ]
     },
     "execution_count": 51,
     "metadata": {},
     "output_type": "execute_result"
    }
   ],
   "source": [
    "dm.setup('fit')\n",
    "dl = dm.train_dataloader()\n",
    "next(iter(dl)).shape"
   ]
  },
  {
   "cell_type": "code",
   "execution_count": null,
   "metadata": {},
   "outputs": [],
   "source": []
  }
 ],
 "metadata": {
  "kernelspec": {
   "display_name": "deep",
   "language": "python",
   "name": "python3"
  },
  "language_info": {
   "codemirror_mode": {
    "name": "ipython",
    "version": 3
   },
   "file_extension": ".py",
   "mimetype": "text/x-python",
   "name": "python",
   "nbconvert_exporter": "python",
   "pygments_lexer": "ipython3",
   "version": "3.10.9 (main, Jan 16 2023, 10:40:03) [Clang 14.0.0 (clang-1400.0.29.202)]"
  },
  "orig_nbformat": 4,
  "vscode": {
   "interpreter": {
    "hash": "e4c79cf6fafbf2522c065c43b467bae74e3834b7cbf71fd8cfb19ca5cdafa4e8"
   }
  }
 },
 "nbformat": 4,
 "nbformat_minor": 2
}
