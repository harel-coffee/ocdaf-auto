{
 "cells": [
  {
   "cell_type": "markdown",
   "metadata": {},
   "source": [
    "# Datamodule Testing\n",
    "\n",
    "This is a running example of how to use the DataModule. For the datamodule, you can use either synthetic datasets or real-world data (only synthetic is implemented at the moment!). \n",
    "\n",
    "\n"
   ]
  },
  {
   "cell_type": "code",
   "execution_count": 1,
   "metadata": {},
   "outputs": [],
   "source": [
    "import sys\n",
    "sys.path.append('..')\n",
    "%load_ext autoreload"
   ]
  },
  {
   "cell_type": "markdown",
   "metadata": {},
   "source": [
    "\n",
    "## Synthetic data\n",
    "\n",
    "For synthetic data we generate structural causal models using an SCM generator. You can check out the [tutorial](./scm_tutorial.ipynb) on how to use this generator. Buttom line, you have to give your datamodule the name of the SCM generator class which is being used alongside the constructor arguments as `scm_generator_class` and `scm_generator_args`. This will create a generator according to the scheme and sample an SCM using the seed defined in the datamodule to work with it.\n"
   ]
  },
  {
   "cell_type": "code",
   "execution_count": 2,
   "metadata": {},
   "outputs": [],
   "source": [
    "## Synthetic scm arguments\n",
    "scm_generator_class = 'ocd.data.affine_additive.scm.AffineAdditiveSCMGenerator'\n",
    "\n",
    "# an example of a generation scheme:\n",
    "graph_generation_scheme = dict(\n",
    "    graph_generator_type='erdos_renyi',\n",
    "    graph_generator_args=dict(\n",
    "        n=5,\n",
    "        p=0.7\n",
    "    )\n",
    ")\n",
    "\n",
    "# scm_generator kwargs\n",
    "scm_generator_kwargs = dict(\n",
    "    **graph_generation_scheme,\n",
    "    function_type='linear_additive',\n",
    "    noise_type='laplace',\n",
    "    functional_form_generator_args=dict(\n",
    "        weight_low=0.2,\n",
    "        weight_high=1.0,\n",
    "        noise_std_low=0.2,\n",
    "        noise_std_high=1.0,\n",
    "        noise_mean_low=0.2,\n",
    "        noise_mean_high=1.0\n",
    "    )\n",
    ")"
   ]
  },
  {
   "cell_type": "markdown",
   "metadata": {},
   "source": [
    "After setting up the SCM, you can give your datamodule a set of parameters to simulate observational and interventional data. The parameter `observation_size` will denote the number of observational samples simulated from the SCM. On the other hand, you might have a set of local interventions, better known as, interventional episodes. The number of such interventional eposides can be set using `interventional_episode_count` and for each interventional episode the number of samples are denoted by `interventional_episode_size`. The actual intervention itself is defined as a callable function using `intervention_function` that gets input of form `(inputs, params)` where `inputs[0]` is the noise variable and `inputs[1..]` are the endogenous variables of the parents; furthermore, `params[0]` will denote the parameters for the current node and `params[1..]` will denote the parameters corresponding to the edge connecting that particular parent to our current node. You can check the intervention section of the [tutorial](./scm_tutorial.ipynb) for further clarification.\n",
    "\n",
    "*Note*: By default, the intervention is set off and the dataset obtained will only be observational."
   ]
  },
  {
   "cell_type": "code",
   "execution_count": 3,
   "metadata": {},
   "outputs": [],
   "source": [
    "observation_size = 100\n",
    "\n",
    "interventional_episode_count = 2\n",
    "interventional_episode_size = 30\n",
    "\n",
    "# hard intervention setting the value of the intervened node to 2.\n",
    "intervention_function = 'lambda inputs, params: 2'"
   ]
  },
  {
   "cell_type": "markdown",
   "metadata": {},
   "source": [
    "Without further ado, let's create the datamodule itself:"
   ]
  },
  {
   "cell_type": "code",
   "execution_count": 4,
   "metadata": {},
   "outputs": [],
   "source": [
    "%autoreload\n",
    "from ocd.data.module import OCDDataModule\n",
    "\n",
    "\n",
    "dm = OCDDataModule(\n",
    "    seed=100,\n",
    "    scm_generator_class=scm_generator_class,\n",
    "    scm_generator_args=scm_generator_kwargs,\n",
    "    observation_size=observation_size,\n",
    "    interventional_episode_count=interventional_episode_count,\n",
    "    interventional_episode_size=interventional_episode_size,\n",
    "    intervention_function=intervention_function,\n",
    "    batch_size=64,\n",
    "    num_workers=0,  # set to 0 for no multiprocessing\n",
    "    val_size=0,  # 10% of data for validation, or use int for exact number of samples, set to 0 for no validation\n",
    ")\n",
    "dm.setup('fit')"
   ]
  },
  {
   "cell_type": "markdown",
   "metadata": {},
   "source": [
    "Now using `dm.datasets` you will have access to the observational and interventional data. For example, `dm.datasets[0]` will give you the observational data:"
   ]
  },
  {
   "cell_type": "code",
   "execution_count": 5,
   "metadata": {},
   "outputs": [
    {
     "data": {
      "text/html": [
       "<div>\n",
       "<style scoped>\n",
       "    .dataframe tbody tr th:only-of-type {\n",
       "        vertical-align: middle;\n",
       "    }\n",
       "\n",
       "    .dataframe tbody tr th {\n",
       "        vertical-align: top;\n",
       "    }\n",
       "\n",
       "    .dataframe thead th {\n",
       "        text-align: right;\n",
       "    }\n",
       "</style>\n",
       "<table border=\"1\" class=\"dataframe\">\n",
       "  <thead>\n",
       "    <tr style=\"text-align: right;\">\n",
       "      <th></th>\n",
       "      <th>0</th>\n",
       "      <th>1</th>\n",
       "      <th>2</th>\n",
       "      <th>3</th>\n",
       "      <th>4</th>\n",
       "    </tr>\n",
       "  </thead>\n",
       "  <tbody>\n",
       "    <tr>\n",
       "      <th>0</th>\n",
       "      <td>0.406766</td>\n",
       "      <td>0.674384</td>\n",
       "      <td>0.488556</td>\n",
       "      <td>1.371651</td>\n",
       "      <td>0.178411</td>\n",
       "    </tr>\n",
       "    <tr>\n",
       "      <th>1</th>\n",
       "      <td>0.383537</td>\n",
       "      <td>0.643449</td>\n",
       "      <td>0.451550</td>\n",
       "      <td>1.281277</td>\n",
       "      <td>0.167735</td>\n",
       "    </tr>\n",
       "    <tr>\n",
       "      <th>2</th>\n",
       "      <td>0.457924</td>\n",
       "      <td>0.742513</td>\n",
       "      <td>0.570054</td>\n",
       "      <td>1.570682</td>\n",
       "      <td>0.201922</td>\n",
       "    </tr>\n",
       "    <tr>\n",
       "      <th>3</th>\n",
       "      <td>0.311068</td>\n",
       "      <td>0.546939</td>\n",
       "      <td>0.336101</td>\n",
       "      <td>0.999333</td>\n",
       "      <td>0.134430</td>\n",
       "    </tr>\n",
       "    <tr>\n",
       "      <th>4</th>\n",
       "      <td>-0.122281</td>\n",
       "      <td>-0.030165</td>\n",
       "      <td>-0.354256</td>\n",
       "      <td>-0.686623</td>\n",
       "      <td>-0.064727</td>\n",
       "    </tr>\n",
       "    <tr>\n",
       "      <th>...</th>\n",
       "      <td>...</td>\n",
       "      <td>...</td>\n",
       "      <td>...</td>\n",
       "      <td>...</td>\n",
       "      <td>...</td>\n",
       "    </tr>\n",
       "    <tr>\n",
       "      <th>95</th>\n",
       "      <td>0.972425</td>\n",
       "      <td>1.427691</td>\n",
       "      <td>1.389693</td>\n",
       "      <td>3.572365</td>\n",
       "      <td>0.438374</td>\n",
       "    </tr>\n",
       "    <tr>\n",
       "      <th>96</th>\n",
       "      <td>0.562659</td>\n",
       "      <td>0.881991</td>\n",
       "      <td>0.736904</td>\n",
       "      <td>1.978155</td>\n",
       "      <td>0.250055</td>\n",
       "    </tr>\n",
       "    <tr>\n",
       "      <th>97</th>\n",
       "      <td>0.908141</td>\n",
       "      <td>1.342082</td>\n",
       "      <td>1.287284</td>\n",
       "      <td>3.322266</td>\n",
       "      <td>0.408831</td>\n",
       "    </tr>\n",
       "    <tr>\n",
       "      <th>98</th>\n",
       "      <td>0.470289</td>\n",
       "      <td>0.758980</td>\n",
       "      <td>0.589753</td>\n",
       "      <td>1.618789</td>\n",
       "      <td>0.207605</td>\n",
       "    </tr>\n",
       "    <tr>\n",
       "      <th>99</th>\n",
       "      <td>0.519811</td>\n",
       "      <td>0.824930</td>\n",
       "      <td>0.668646</td>\n",
       "      <td>1.811458</td>\n",
       "      <td>0.230364</td>\n",
       "    </tr>\n",
       "  </tbody>\n",
       "</table>\n",
       "<p>100 rows × 5 columns</p>\n",
       "</div>"
      ],
      "text/plain": [
       "           0         1         2         3         4\n",
       "0   0.406766  0.674384  0.488556  1.371651  0.178411\n",
       "1   0.383537  0.643449  0.451550  1.281277  0.167735\n",
       "2   0.457924  0.742513  0.570054  1.570682  0.201922\n",
       "3   0.311068  0.546939  0.336101  0.999333  0.134430\n",
       "4  -0.122281 -0.030165 -0.354256 -0.686623 -0.064727\n",
       "..       ...       ...       ...       ...       ...\n",
       "95  0.972425  1.427691  1.389693  3.572365  0.438374\n",
       "96  0.562659  0.881991  0.736904  1.978155  0.250055\n",
       "97  0.908141  1.342082  1.287284  3.322266  0.408831\n",
       "98  0.470289  0.758980  0.589753  1.618789  0.207605\n",
       "99  0.519811  0.824930  0.668646  1.811458  0.230364\n",
       "\n",
       "[100 rows x 5 columns]"
      ]
     },
     "execution_count": 5,
     "metadata": {},
     "output_type": "execute_result"
    }
   ],
   "source": [
    "dm.datasets[0].samples"
   ]
  },
  {
   "cell_type": "markdown",
   "metadata": {},
   "source": [
    "You can also plot the scm corresponding to the datamodule using `dm.scm.draw()`:"
   ]
  },
  {
   "cell_type": "code",
   "execution_count": 6,
   "metadata": {},
   "outputs": [
    {
     "name": "stdout",
     "output_type": "stream",
     "text": [
      "x(0) = 0.55*laplace(0.68, 0.74)\n",
      "---------------------\n",
      "\n",
      "x(4) = 0.27*laplace(0.32, 0.38) + 0.21*x(0)\n",
      "---------------------\n",
      "\n",
      "x(2) = 0.39*laplace(0.33, 0.80) + 0.69*x(0) + 0.29*x(4)\n",
      "---------------------\n",
      "\n",
      "x(1) = 0.50*laplace(0.69, 0.34) + 0.88*x(4) + 0.32*x(2)\n",
      "---------------------\n",
      "\n",
      "x(3) = 0.50*laplace(0.36, 0.76) + 0.56*x(4) + 0.95*x(2) + 0.88*x(1)\n",
      "---------------------\n",
      "\n"
     ]
    },
    {
     "data": {
      "image/png": "[encoded data removed]",
      "text/plain": [
       "<Figure size 640x480 with 1 Axes>"
      ]
     },
     "metadata": {},
     "output_type": "display_data"
    }
   ],
   "source": [
    "dm.scm.draw()"
   ]
  },
  {
   "cell_type": "markdown",
   "metadata": {},
   "source": [
    "To check out the interventional dataset samples you can run the following code. Note that the intervened variable is set to $2$."
   ]
  },
  {
   "cell_type": "code",
   "execution_count": 7,
   "metadata": {},
   "outputs": [
    {
     "data": {
      "text/html": [
       "<div>\n",
       "<style scoped>\n",
       "    .dataframe tbody tr th:only-of-type {\n",
       "        vertical-align: middle;\n",
       "    }\n",
       "\n",
       "    .dataframe tbody tr th {\n",
       "        vertical-align: top;\n",
       "    }\n",
       "\n",
       "    .dataframe thead th {\n",
       "        text-align: right;\n",
       "    }\n",
       "</style>\n",
       "<table border=\"1\" class=\"dataframe\">\n",
       "  <thead>\n",
       "    <tr style=\"text-align: right;\">\n",
       "      <th></th>\n",
       "      <th>0</th>\n",
       "      <th>1</th>\n",
       "      <th>2</th>\n",
       "      <th>3</th>\n",
       "      <th>4</th>\n",
       "    </tr>\n",
       "  </thead>\n",
       "  <tbody>\n",
       "    <tr>\n",
       "      <th>0</th>\n",
       "      <td>0.383537</td>\n",
       "      <td>2.431156</td>\n",
       "      <td>0.988123</td>\n",
       "      <td>4.391468</td>\n",
       "      <td>2</td>\n",
       "    </tr>\n",
       "    <tr>\n",
       "      <th>1</th>\n",
       "      <td>0.457924</td>\n",
       "      <td>2.496865</td>\n",
       "      <td>1.096616</td>\n",
       "      <td>4.622843</td>\n",
       "      <td>2</td>\n",
       "    </tr>\n",
       "    <tr>\n",
       "      <th>2</th>\n",
       "      <td>0.311068</td>\n",
       "      <td>2.367142</td>\n",
       "      <td>0.882427</td>\n",
       "      <td>4.166059</td>\n",
       "      <td>2</td>\n",
       "    </tr>\n",
       "    <tr>\n",
       "      <th>3</th>\n",
       "      <td>-0.122281</td>\n",
       "      <td>1.984351</td>\n",
       "      <td>0.250393</td>\n",
       "      <td>2.818162</td>\n",
       "      <td>2</td>\n",
       "    </tr>\n",
       "    <tr>\n",
       "      <th>4</th>\n",
       "      <td>-0.352278</td>\n",
       "      <td>1.781187</td>\n",
       "      <td>-0.085055</td>\n",
       "      <td>2.102776</td>\n",
       "      <td>2</td>\n",
       "    </tr>\n",
       "  </tbody>\n",
       "</table>\n",
       "</div>"
      ],
      "text/plain": [
       "          0         1         2         3  4\n",
       "0  0.383537  2.431156  0.988123  4.391468  2\n",
       "1  0.457924  2.496865  1.096616  4.622843  2\n",
       "2  0.311068  2.367142  0.882427  4.166059  2\n",
       "3 -0.122281  1.984351  0.250393  2.818162  2\n",
       "4 -0.352278  1.781187 -0.085055  2.102776  2"
      ]
     },
     "execution_count": 7,
     "metadata": {},
     "output_type": "execute_result"
    }
   ],
   "source": [
    "dm.datasets[1].samples.head()"
   ]
  },
  {
   "cell_type": "code",
   "execution_count": 8,
   "metadata": {},
   "outputs": [
    {
     "data": {
      "text/html": [
       "<div>\n",
       "<style scoped>\n",
       "    .dataframe tbody tr th:only-of-type {\n",
       "        vertical-align: middle;\n",
       "    }\n",
       "\n",
       "    .dataframe tbody tr th {\n",
       "        vertical-align: top;\n",
       "    }\n",
       "\n",
       "    .dataframe thead th {\n",
       "        text-align: right;\n",
       "    }\n",
       "</style>\n",
       "<table border=\"1\" class=\"dataframe\">\n",
       "  <thead>\n",
       "    <tr style=\"text-align: right;\">\n",
       "      <th></th>\n",
       "      <th>0</th>\n",
       "      <th>1</th>\n",
       "      <th>2</th>\n",
       "      <th>3</th>\n",
       "      <th>4</th>\n",
       "    </tr>\n",
       "  </thead>\n",
       "  <tbody>\n",
       "    <tr>\n",
       "      <th>0</th>\n",
       "      <td>0.457924</td>\n",
       "      <td>1.201962</td>\n",
       "      <td>2</td>\n",
       "      <td>3.338547</td>\n",
       "      <td>0.201922</td>\n",
       "    </tr>\n",
       "    <tr>\n",
       "      <th>1</th>\n",
       "      <td>0.311068</td>\n",
       "      <td>1.081560</td>\n",
       "      <td>2</td>\n",
       "      <td>3.056438</td>\n",
       "      <td>0.134430</td>\n",
       "    </tr>\n",
       "    <tr>\n",
       "      <th>2</th>\n",
       "      <td>-0.122281</td>\n",
       "      <td>0.726270</td>\n",
       "      <td>2</td>\n",
       "      <td>2.223982</td>\n",
       "      <td>-0.064727</td>\n",
       "    </tr>\n",
       "    <tr>\n",
       "      <th>3</th>\n",
       "      <td>-0.352278</td>\n",
       "      <td>0.537703</td>\n",
       "      <td>2</td>\n",
       "      <td>1.782161</td>\n",
       "      <td>-0.170428</td>\n",
       "    </tr>\n",
       "    <tr>\n",
       "      <th>4</th>\n",
       "      <td>-1.273969</td>\n",
       "      <td>-0.217962</td>\n",
       "      <td>2</td>\n",
       "      <td>0.011606</td>\n",
       "      <td>-0.594015</td>\n",
       "    </tr>\n",
       "  </tbody>\n",
       "</table>\n",
       "</div>"
      ],
      "text/plain": [
       "          0         1  2         3         4\n",
       "0  0.457924  1.201962  2  3.338547  0.201922\n",
       "1  0.311068  1.081560  2  3.056438  0.134430\n",
       "2 -0.122281  0.726270  2  2.223982 -0.064727\n",
       "3 -0.352278  0.537703  2  1.782161 -0.170428\n",
       "4 -1.273969 -0.217962  2  0.011606 -0.594015"
      ]
     },
     "execution_count": 8,
     "metadata": {},
     "output_type": "execute_result"
    }
   ],
   "source": [
    "dm.datasets[2].samples.head()"
   ]
  }
 ],
 "metadata": {
  "kernelspec": {
   "display_name": "Python 3.10.9 ('venv': venv)",
   "language": "python",
   "name": "python3"
  },
  "language_info": {
   "codemirror_mode": {
    "name": "ipython",
    "version": 3
   },
   "file_extension": ".py",
   "mimetype": "text/x-python",
   "name": "python",
   "nbconvert_exporter": "python",
   "pygments_lexer": "ipython3",
   "version": "3.10.9"
  },
  "orig_nbformat": 4,
  "vscode": {
   "interpreter": {
    "hash": "52095eaac6f7430dcd770b4bb1719550039f99e3c10e23775974db5ba0b67989"
   }
  }
 },
 "nbformat": 4,
 "nbformat_minor": 2
}
