{
 "cells": [
  {
   "cell_type": "code",
   "execution_count": 1,
   "metadata": {},
   "outputs": [],
   "source": [
    "import sys\n",
    "sys.path.append('..')"
   ]
  },
  {
   "cell_type": "code",
   "execution_count": 1,
   "metadata": {},
   "outputs": [],
   "source": [
    "import lightning\n",
    "import lightning.pytorch.callbacks\n",
    "from ocd.training import OrderedTrainingModule\n"
   ]
  },
  {
   "cell_type": "code",
   "execution_count": 2,
   "metadata": {},
   "outputs": [],
   "source": [
    "%load_ext autoreload"
   ]
  },
  {
   "cell_type": "code",
   "execution_count": 3,
   "metadata": {},
   "outputs": [
    {
     "name": "stderr",
     "output_type": "stream",
     "text": [
      "GPU available: False, used: False\n",
      "TPU available: False, using: 0 TPU cores\n",
      "IPU available: False, using: 0 IPUs\n",
      "HPU available: False, using: 0 HPUs\n"
     ]
    }
   ],
   "source": [
    "%autoreload 2\n",
    "# set callbacks for the trainer\n",
    "callbacks = [\n",
    "    # monitor the learning rate (log to tensorboard)\n",
    "    lightning.pytorch.callbacks.LearningRateMonitor(logging_interval=\"epoch\"),\n",
    "]\n",
    "\n",
    "trainer = lightning.Trainer(\n",
    "    # accelerator=\"mps\",  # remove this line to run on CPU\n",
    "    callbacks=callbacks,\n",
    "    # precision=16, # for mixed precision training\n",
    "    # gradient_clip_val=1.0,\n",
    "    # gradient_clip_algorithm=\"value\",\n",
    "    max_epochs=10000,\n",
    "    track_grad_norm=\"inf\",\n",
    "    log_every_n_steps=1,\n",
    "    # overfit_batches=3,\n",
    "    # detect_anomaly=True,\n",
    ")\n"
   ]
  },
  {
   "cell_type": "code",
   "execution_count": 4,
   "metadata": {},
   "outputs": [
    {
     "name": "stdout",
     "output_type": "stream",
     "text": [
      "[bnlearn] >Import <asia>\n",
      "[bnlearn] >Loading bif file </home/hamidreza/Work/myprojects/ocd/venv/lib/python3.10/site-packages/bnlearn/data/asia.bif>\n",
      "[bnlearn] >Check whether CPDs sum up to one.\n",
      "[bnlearn] >Check whether CPDs associated with the nodes are consistent: True\n"
     ]
    }
   ],
   "source": [
    "# setup data\n",
    "from ocd.data import CausalDataModule\n",
    "import dycode\n",
    "import torch\n",
    "\n",
    "dycode.register_context(torch)\n",
    "\n",
    "dm = CausalDataModule(\n",
    "    name=\"asia\",  # small dataset asia\n",
    "    observation_size=4096,  # number of observation samples\n",
    "    intervention_size=256,  # set to 0 for no intervention\n",
    "    batch_size=128,\n",
    "    num_workers=0,  # set to 0 for no multiprocessing\n",
    "    val_size=0,  # 10% of data for validation, or use int for exact number of samples, set to 0 for no validation\n",
    "    pin_memory=True,  # set to True for faster data transfer to GPU (if available)\n",
    ")\n",
    "dm.setup(\"fit\")\n"
   ]
  },
  {
   "cell_type": "code",
   "execution_count": 5,
   "metadata": {},
   "outputs": [],
   "source": [
    "# set torch.anomaly_detection(True) to debug\n",
    "import torch\n",
    "\n",
    "# Extract the category sizes\n",
    "in_features = dm.train_data[0].features_values\n",
    "\n",
    "\n",
    "# torch.autograd.set_detect_anomaly(True)\n",
    "tm = OrderedTrainingModule(\n",
    "    in_covariate_features=in_features,\n",
    "    hidden_features_per_covariate=[\n",
    "        [128 for i in range(len(in_features))],\n",
    "        [64 for i in range(len(in_features))],\n",
    "        [32 for i in range(len(in_features))],\n",
    "    ],\n",
    "    bias=False,\n",
    "    batch_norm=False,\n",
    "    criterion_args=dict(\n",
    "        terms=[\n",
    "            \"ocd.training.terms.OrderedLikelihoodTerm\",\n",
    "            dict(\n",
    "                name=\"norm(gamma)\",\n",
    "                term_function='lambda training_module: training_module.model.Gamma.norm(float(\"inf\"))',\n",
    "                factor=0,\n",
    "            ),\n",
    "            dict(\n",
    "                name=\"norm(layers)\",\n",
    "                term_function='lambda training_module: max([layer.linear.weight.norm(float(\"inf\")) for layer in training_module.model.made.layers])',\n",
    "                factor=0,\n",
    "            )\n",
    "            # dict(\n",
    "            #     name='nothing',\n",
    "            #     term_function='def term(training_module, batch):\\n\\ttraining_module.batch=batch\\n\\treturn torch.zeros(1, device=batch.device)',\n",
    "            #     factor=0,\n",
    "            # )\n",
    "        ]\n",
    "    ),\n",
    "    optimizer=['torch.optim.Adam', 'torch.optim.Adam'],\n",
    "    optimizer_parameters=['model.made', 'model.Gamma'],\n",
    "    optimizer_args=[\n",
    "        dict(\n",
    "            weight_decay=0.0001,\n",
    "        ),\n",
    "        dict()\n",
    "    ],\n",
    "    optimizer_is_active=[\n",
    "        'lambda training_module: training_module.current_epoch % 10 < 10',\n",
    "        'lambda training_module: training_module.current_epoch % 10 < 10',\n",
    "    ],\n",
    "    tau_scheduler=\"lambda training_module: max(0.003, 0.5 * 0.98 ** (training_module.current_epoch // 1))\",\n",
    "    n_sinkhorn_scheduler=\"lambda training_module: min(60, max(20, 20 + ((training_module.current_epoch - 20) // 10)))\",\n",
    "    lr=0.001,\n",
    "    scheduler=\"torch.optim.lr_scheduler.ExponentialLR\",\n",
    "    scheduler_interval=\"epoch\",\n",
    "    scheduler_args={\"gamma\": 0.999},\n",
    ")\n"
   ]
  },
  {
   "cell_type": "code",
   "execution_count": 10,
   "metadata": {},
   "outputs": [
    {
     "name": "stdout",
     "output_type": "stream",
     "text": [
      "[bnlearn] >Import <asia>\n",
      "[bnlearn] >Loading bif file </home/hamidreza/Work/myprojects/ocd/venv/lib/python3.10/site-packages/bnlearn/data/asia.bif>\n",
      "[bnlearn] >Check whether CPDs sum up to one.\n",
      "[bnlearn] >Check whether CPDs associated with the nodes are consistent: True\n"
     ]
    },
    {
     "name": "stderr",
     "output_type": "stream",
     "text": [
      "\n",
      "  | Name  | Type                   | Params\n",
      "-------------------------------------------------\n",
      "0 | model | SinkhornOrderDiscovery | 675 K \n",
      "-------------------------------------------------\n",
      "675 K     Trainable params\n",
      "0         Non-trainable params\n",
      "675 K     Total params\n",
      "2.704     Total estimated model params size (MB)\n"
     ]
    },
    {
     "data": {
      "application/vnd.jupyter.widget-view+json": {
       "model_id": "745c42ef607643dfbe06cbccfb85eec0",
       "version_major": 2,
       "version_minor": 0
      },
      "text/plain": [
       "Sanity Checking: 0it [00:00, ?it/s]"
      ]
     },
     "metadata": {},
     "output_type": "display_data"
    },
    {
     "data": {
      "application/vnd.jupyter.widget-view+json": {
       "model_id": "9a791c3bd7f64a1f866540d28ff04b70",
       "version_major": 2,
       "version_minor": 0
      },
      "text/plain": [
       "Training: 20it [00:00, ?it/s]"
      ]
     },
     "metadata": {},
     "output_type": "display_data"
    }
   ],
   "source": [
    "trainer.fit(tm, dm)\n"
   ]
  },
  {
   "cell_type": "code",
   "execution_count": 9,
   "metadata": {},
   "outputs": [
    {
     "name": "stdout",
     "output_type": "stream",
     "text": [
      "[[0. 0. 0. 0. 0. 0. 1. 0.]\n",
      " [0. 0. 1. 0. 0. 0. 0. 0.]\n",
      " [0. 0. 0. 0. 0. 0. 0. 0.]\n",
      " [0. 0. 1. 0. 0. 0. 0. 1.]\n",
      " [0. 0. 0. 1. 0. 0. 0. 0.]\n",
      " [0. 1. 0. 0. 1. 0. 0. 0.]\n",
      " [0. 0. 0. 1. 0. 0. 0. 0.]\n",
      " [0. 0. 0. 0. 0. 0. 0. 0.]]\n"
     ]
    }
   ],
   "source": [
    "print(dm.trainer.datamodule.datasets[2].dag)"
   ]
  }
 ],
 "metadata": {
  "kernelspec": {
   "display_name": "Python 3.10.9 64-bit",
   "language": "python",
   "name": "python3"
  },
  "language_info": {
   "codemirror_mode": {
    "name": "ipython",
    "version": 3
   },
   "file_extension": ".py",
   "mimetype": "text/x-python",
   "name": "python",
   "nbconvert_exporter": "python",
   "pygments_lexer": "ipython3",
   "version": "3.10.9"
  },
  "orig_nbformat": 4,
  "vscode": {
   "interpreter": {
    "hash": "e7370f93d1d0cde622a1f8e1c04877d8463912d04d973331ad4851f04de6915a"
   }
  }
 },
 "nbformat": 4,
 "nbformat_minor": 2
}
