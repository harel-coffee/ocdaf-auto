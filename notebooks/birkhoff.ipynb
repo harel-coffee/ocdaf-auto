{
 "cells": [
  {
   "cell_type": "code",
   "execution_count": 39,
   "metadata": {},
   "outputs": [],
   "source": [
    "# Create a birkhoff polytope of size 3 in numpy \n",
    "import numpy as np\n",
    "from scipy.spatial import ConvexHull\n",
    "import matplotlib.pyplot as plt\n",
    "import seaborn as sns\n",
    "\n",
    "np.random.seed(11)\n",
    "n = 3\n",
    "# create a uniform matrix of size n\n",
    "Gamma = np.ones((n, n)) / n\n",
    "\n",
    "# sample a permutation matrix by adding Gumbel noise to Gamma\n",
    "# and then normalizing\n",
    "def sample_perm_matrix(Gamma, Gumbel, tau, n_iter):\n",
    "    T = np.exp((Gumbel + Gamma) / tau)\n",
    "    for _ in range(n_iter):\n",
    "        T = T / np.sum(T, axis=1, keepdims=True)\n",
    "        T = T / np.sum(T, axis=0, keepdims=True)\n",
    "    return T\n",
    "\n",
    "# sample a permutation matrix\n",
    "n_sample = 10000\n",
    "all_noises = []\n",
    "for _ in range(n_sample):\n",
    "    Gumbel = np.random.gumbel(size=(n, n))\n",
    "    all_noises.append(Gumbel)\n"
   ]
  },
  {
   "cell_type": "code",
   "execution_count": 40,
   "metadata": {},
   "outputs": [],
   "source": [
    "import os\n",
    "\n",
    "def save_image(tau, Gamma, all_noises, root_dir, index = None, pca_model = None):\n",
    "    all_samples = []\n",
    "    for i in range(n_sample):\n",
    "        all_samples.append(sample_perm_matrix(Gamma, all_noises[i], tau, 30).reshape(-1))\n",
    "\n",
    "    all_samples = np.vstack(all_samples)\n",
    "    # plot all_samples using dimensionality reduction on 2D\n",
    "    # dimension reduction on all_samples using PCA\n",
    "    from sklearn.decomposition import PCA\n",
    "    if pca_model is None:\n",
    "        pca = PCA(n_components=2)\n",
    "        pca.fit(all_samples)\n",
    "    else:\n",
    "        pca = pca_model\n",
    "\n",
    "    # scatterplot all_samples_2d with small point width\n",
    "\n",
    "    if index is not None:\n",
    "        all_samples_2d = pca.transform(all_samples)\n",
    "        fig, ax = plt.subplots()\n",
    "        ax.scatter(all_samples_2d[:, 0], all_samples_2d[:, 1], s=1)\n",
    "        # save the plot in a file\n",
    "        fig.savefig(os.path.join(root_dir, f\"birkhoff_{index}.png\"))\n",
    "        plt.close(fig)\n",
    "        \n",
    "    return pca_model"
   ]
  },
  {
   "cell_type": "code",
   "execution_count": 42,
   "metadata": {},
   "outputs": [
    {
     "name": "stderr",
     "output_type": "stream",
     "text": [
      "/tmp/ipykernel_22467/186162455.py:13: DeprecationWarning: Starting with ImageIO v3 the behavior of this function will switch to that of iio.v3.imread. To keep the current behavior (and make this warning disappear) use `import imageio.v2 as imageio` or call `imageio.v2.imread` directly.\n",
      "  images.append(imageio.imread(os.path.join(\"birkhoff\", f\"birkhoff_{i}.png\")))\n",
      "/tmp/ipykernel_22467/186162455.py:16: DeprecationWarning: Starting with ImageIO v3 the behavior of this function will switch to that of iio.v3.imread. To keep the current behavior (and make this warning disappear) use `import imageio.v2 as imageio` or call `imageio.v2.imread` directly.\n",
      "  images.append(imageio.imread(os.path.join(\"birkhoff\", f\"birkhoff_{i}.png\")))\n"
     ]
    }
   ],
   "source": [
    "all_samples = []\n",
    "pca_model = save_image(0.05, Gamma, all_noises, \"birkhoff\")\n",
    "t = 1\n",
    "F = 15\n",
    "for tau in np.linspace(0.2, 1, F):\n",
    "    save_image(tau**2, Gamma, all_noises, \"birkhoff\", F - t, pca_model)\n",
    "    t += 1\n",
    "\n",
    "# save all images in the folder birkhoff into a gif\n",
    "import imageio\n",
    "images = []\n",
    "for i in range(F):\n",
    "    images.append(imageio.imread(os.path.join(\"birkhoff\", f\"birkhoff_{i}.png\")))\n",
    "    if i == F - 1:\n",
    "        for _ in range(5):\n",
    "            images.append(imageio.imread(os.path.join(\"birkhoff\", f\"birkhoff_{i}.png\")))\n",
    "            \n",
    "imageio.mimsave(os.path.join(\"birkhoff\", \"birkhoff.gif\"), images, duration=6)\n",
    "\n",
    "# delete all images in the folder birkhoff\n",
    "import os\n",
    "for i in range(F):\n",
    "    os.remove(os.path.join(\"birkhoff\", f\"birkhoff_{i}.png\"))"
   ]
  }
 ],
 "metadata": {
  "kernelspec": {
   "display_name": "Python 3.10.6 64-bit",
   "language": "python",
   "name": "python3"
  },
  "language_info": {
   "codemirror_mode": {
    "name": "ipython",
    "version": 3
   },
   "file_extension": ".py",
   "mimetype": "text/x-python",
   "name": "python",
   "nbconvert_exporter": "python",
   "pygments_lexer": "ipython3",
   "version": "3.10.6"
  },
  "orig_nbformat": 4,
  "vscode": {
   "interpreter": {
    "hash": "916dbcbb3f70747c44a77c7bcd40155683ae19c65e1c03b4aa3499c5328201f1"
   }
  }
 },
 "nbformat": 4,
 "nbformat_minor": 2
}
